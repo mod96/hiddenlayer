{
  "nbformat": 4,
  "nbformat_minor": 0,
  "metadata": {
    "colab": {
      "name": "GET_STOCK.ipynb",
      "provenance": []
    },
    "kernelspec": {
      "name": "python3",
      "display_name": "Python 3"
    }
  },
  "cells": [
    {
      "cell_type": "code",
      "metadata": {
        "id": "-lVBSQ903sI1",
        "colab_type": "code",
        "colab": {}
      },
      "source": [
        ""
      ],
      "execution_count": 0,
      "outputs": []
    },
    {
      "cell_type": "markdown",
      "metadata": {
        "id": "d6Tqj2d85ACR",
        "colab_type": "text"
      },
      "source": [
        "DRIVE SETUP"
      ]
    },
    {
      "cell_type": "code",
      "metadata": {
        "id": "SxKJF5ON4_gY",
        "colab_type": "code",
        "colab": {
          "base_uri": "https://localhost:8080/",
          "height": 127
        },
        "outputId": "b4c77553-8069-4ff5-9388-ac5fbb9dbf45"
      },
      "source": [
        "from google.colab import drive\n",
        "drive.mount('/content/gdrive',force_remount=True)"
      ],
      "execution_count": 1,
      "outputs": [
        {
          "output_type": "stream",
          "text": [
            "Go to this URL in a browser: https://accounts.google.com/o/oauth2/auth?client_id=947318989803-6bn6qk8qdgf4n4g3pfee6491hc0brc4i.apps.googleusercontent.com&redirect_uri=urn%3aietf%3awg%3aoauth%3a2.0%3aoob&response_type=code&scope=email%20https%3a%2f%2fwww.googleapis.com%2fauth%2fdocs.test%20https%3a%2f%2fwww.googleapis.com%2fauth%2fdrive%20https%3a%2f%2fwww.googleapis.com%2fauth%2fdrive.photos.readonly%20https%3a%2f%2fwww.googleapis.com%2fauth%2fpeopleapi.readonly\n",
            "\n",
            "Enter your authorization code:\n",
            "··········\n",
            "Mounted at /content/gdrive\n"
          ],
          "name": "stdout"
        }
      ]
    },
    {
      "cell_type": "markdown",
      "metadata": {
        "id": "ya_cY9He3tY6",
        "colab_type": "text"
      },
      "source": [
        "DATA MINING CODE"
      ]
    },
    {
      "cell_type": "code",
      "metadata": {
        "id": "VH2f3_mm3wfY",
        "colab_type": "code",
        "colab": {
          "base_uri": "https://localhost:8080/",
          "height": 1000
        },
        "outputId": "41c109f4-6a11-4700-a800-8975fcd545f1"
      },
      "source": [
        "import pandas as pd\n",
        "import torch\n",
        "from multiprocessing import Process, Queue, Array, Value\n",
        "import time\n",
        "import pandas_datareader as pdr\n",
        "# 종목 타입에 따라 download url이 다름. 종목코드 뒤에 .KS .KQ등이 입력되어야해서 Download Link 구분 필요\n",
        "stock_type = {\n",
        "'kospi': 'stockMkt',\n",
        "'kosdaq': 'kosdaqMkt'\n",
        "}\n",
        "# 회사명으로 주식 종목 코드를 획득할 수 있도록 하는 함수\n",
        "def get_code(df, name):\n",
        "    code = df.query(\"name=='{}'\".format(name))['code'].to_string(index=False)\n",
        "# 위와같이 code명을 가져오면 앞에 공백이 붙어있는 상황이 발생하여 앞뒤로 sript() 하여 공백 제거\n",
        "    code = code.strip()\n",
        "    return code\n",
        "# download url 조합\n",
        "def get_download_stock(market_type=None):\n",
        "    market_type = stock_type[market_type]\n",
        "    download_link = 'http://kind.krx.co.kr/corpgeneral/corpList.do'\n",
        "    download_link = download_link + '?method=download'\n",
        "    download_link = download_link + '&marketType=' + market_type\n",
        "    df = pd.read_html(download_link, header=0)[0]\n",
        "    return df;\n",
        "# kospi 종목코드 목록 다운로드\n",
        "def get_download_kospi():\n",
        "    df = get_download_stock('kospi')\n",
        "    df.종목코드 = df.종목코드.map('{:06d}.KS'.format)\n",
        "    return df\n",
        "# kosdaq 종목코드 목록 다운로드\n",
        "def get_download_kosdaq():\n",
        "    df = get_download_stock('kosdaq')\n",
        "    df.종목코드 = df.종목코드.map('{:06d}.KQ'.format)\n",
        "    return df\n",
        "# kospi, kosdaq 종목코드 각각 다운로드\n",
        "kospi_df = get_download_kospi()\n",
        "kosdaq_df = get_download_kosdaq()\n",
        "# data frame merge\n",
        "code_df = pd.concat([kospi_df, kosdaq_df])\n",
        "# data frame정리\n",
        "code_df = code_df[['회사명', '종목코드']]\n",
        "# data frame title 변경 '회사명' = name, 종목코드 = 'code'\n",
        "code_df = code_df.rename(columns={'회사명': 'name', '종목코드': 'code'})\n",
        "size=len(code_df)\n",
        "iter=0\n",
        "err=0\n",
        "\n",
        "def get_url(item_name, code_df):\n",
        "    code = code_df.query(\"name=='{}'\".format(item_name))['code'].to_string(index=False)\n",
        "    code=code[1:]\n",
        "    url = 'http://finance.naver.com/item/sise_day.nhn?code={code}'.format(code=code)\n",
        "    print(\"요청 URL = {}\".format(url))\n",
        "    return url # 신라젠의 일자데이터 url 가져오기\n",
        "\n",
        "def get_url_by_code(itemcode,code_df):\n",
        "    url = 'http://finance.naver.com/item/sise_day.nhn?code={code}'.format(code=itemcode)\n",
        "    print(\"요청 URL = {}\".format(url))\n",
        "    return url\n",
        "\n",
        "def find_by_code_A(itemcode):\n",
        "    url = get_url_by_code(itemcode, code_df) # 일자 데이터를 담을 df라는 DataFrame 정의\n",
        "    df = pd.DataFrame() # 1페이지에서 20페이지의 데이터만 가져오기\n",
        "    for page in range(1, 1000):\n",
        "        pg_url = '{url}&page={page}'.format(url=url, page=page)\n",
        "        df = df.append(pd.read_html(pg_url, header=0)[0], ignore_index=True)\n",
        "        df = df.dropna()\n",
        "    df.drop_duplicates(['날짜'], keep='first', inplace=True)\n",
        "    return df\n",
        "\n",
        "\n",
        "threads=Array('i',range(6))\n",
        "thrds=[None,None,None,None,None,None]\n",
        "\n",
        "def threaded_search(com_code, num):\n",
        "    torch.multiprocessing.freeze_support()\n",
        "    threads[num]=1\n",
        "    print('Search for a code:{0} started.'.format(com_code))\n",
        "    df = find_by_code_A(com_code)\n",
        "    df.to_csv('/content/gdrive/Shared drives/STOCK/DATA_5.30/' + str(com_code) + '.csv', mode='w', encoding='euc-kr')\n",
        "    print('Search for a code:{0} finished.'.format(com_code))\n",
        "    threads[num]=0\n",
        "\n",
        "def chk_all_threads_started(thrds,threads):\n",
        "    for i in range(len(threads)):\n",
        "        if(threads[i]==0):\n",
        "            return False\n",
        "    return True;\n",
        "\n",
        "def chk_all_threads_dead(thrds,threads):\n",
        "    for i in range(len(thrds)):\n",
        "        if thrds[i].is_alive():\n",
        "            return False\n",
        "    return True\n",
        "\n",
        "def join_threads(thrds):\n",
        "    for i in thrds:\n",
        "        i.join()\n",
        "\n",
        "if __name__ == '__main__':\n",
        "    for i in range(6):\n",
        "        threads[i]=0\n",
        "    for i,row in code_df.iterrows():\n",
        "        iter+=1\n",
        "        val=row['code'][:-3]\n",
        "        print(val)\n",
        "        got_thread=0\n",
        "\n",
        "        while got_thread==0 :\n",
        "            for j in range(len(threads)):\n",
        "                if threads[j] == 0:\n",
        "                    thrds[j] = Process(target = threaded_search,args=(val, j))\n",
        "                    thrds[j].start()\n",
        "                    got_thread=1\n",
        "                    print(\"Process : \" + str(thrds[j]))\n",
        "                    threads[j]=1\n",
        "                    break\n",
        "        if chk_all_threads_started(thrds,threads):\n",
        "            join_threads(thrds)\n",
        "            time.sleep(1)\n",
        "            while not chk_all_threads_dead(thrds,threads):\n",
        "                pass\n",
        "            for j in range(len(threads)):\n",
        "                threads[j]=0\n",
        "\n",
        "        print(str(iter)+'/'+str(size), \"err = \"+str(err))\n",
        "\n",
        "\n",
        "    print('err='+str(err))\n"
      ],
      "execution_count": 0,
      "outputs": [
        {
          "output_type": "stream",
          "text": [
            "/usr/local/lib/python3.6/dist-packages/pandas_datareader/compat/__init__.py:7: FutureWarning: pandas.util.testing is deprecated. Use the functions in the public API at pandas.testing instead.\n",
            "  from pandas.util.testing import assert_frame_equal\n"
          ],
          "name": "stderr"
        },
        {
          "output_type": "stream",
          "text": [
            "005560\n",
            "Process : <Process(Process-1, started)>\n",
            "1/3619 err = 0\n",
            "101380\n",
            "Search for a code:005560 started.\n",
            "Process : <Process(Process-2, started)>\n",
            "2/3619 err = 0\n",
            "114140\n",
            "요청 URL = http://finance.naver.com/item/sise_day.nhn?code=005560\n",
            "Search for a code:101380 started.\n",
            "요청 URL = http://finance.naver.com/item/sise_day.nhn?code=101380\n",
            "Process : <Process(Process-3, started)>\n",
            "3/3619 err = 0\n",
            "064900\n",
            "Search for a code:114140 started.\n",
            "Process : <Process(Process-4, started)>\n",
            "4/3619 err = 0\n",
            "028780\n",
            "요청 URL = http://finance.naver.com/item/sise_day.nhn?code=114140\n",
            "Search for a code:064900 started.\n",
            "요청 URL = http://finance.naver.com/item/sise_day.nhn?code=064900\n",
            "Process : <Process(Process-5, started)>\n",
            "5/3619 err = 0\n",
            "085450\n",
            "Search for a code:028780 started.\n",
            "요청 URL = http://finance.naver.com/item/sise_day.nhn?code=028780\n",
            "Search for a code:085450 started.\n",
            "요청 URL = http://finance.naver.com/item/sise_day.nhn?code=085450\n",
            "Process : <Process(Process-6, started)>\n",
            "Search for a code:028780 finished.\n",
            "Search for a code:114140 finished.\n",
            "Search for a code:085450 finished.\n",
            "Search for a code:101380 finished.\n",
            "Search for a code:064900 finished.\n",
            "Search for a code:005560 finished.\n",
            "6/3619 err = 0\n",
            "000470\n",
            "Process : <Process(Process-7, started)>\n",
            "7/3619 err = 0\n",
            "000980\n",
            "Search for a code:000470 started.\n",
            "요청 URL = http://finance.naver.com/item/sise_day.nhn?code=000470\n",
            "Process : <Process(Process-8, started)>\n",
            "8/3619 err = 0\n",
            "028930\n",
            "Search for a code:000980 started.\n",
            "Process : <Process(Process-9, started)>\n",
            "9/3619 err = 0\n",
            "014740\n",
            "요청 URL = http://finance.naver.com/item/sise_day.nhn?code=000980\n",
            "Search for a code:028930 started.\n",
            "Process : <Process(Process-10, started)>\n",
            "10/3619 err = 0\n",
            "019930\n",
            "요청 URL = http://finance.naver.com/item/sise_day.nhn?code=028930\n",
            "Search for a code:014740 started.\n",
            "Search for a code:019930 started.\n",
            "요청 URL = http://finance.naver.com/item/sise_day.nhn?code=014740\n",
            "Process : <Process(Process-11, started)>\n",
            "11/3619 err = 0\n",
            "016390\n",
            "요청 URL = http://finance.naver.com/item/sise_day.nhn?code=019930\n",
            "Search for a code:016390 started.\n",
            "요청 URL = http://finance.naver.com/item/sise_day.nhn?code=016390\n",
            "Process : <Process(Process-12, started)>\n"
          ],
          "name": "stdout"
        }
      ]
    }
  ]
}