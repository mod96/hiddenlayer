{
 "cells": [
  {
   "cell_type": "markdown",
   "metadata": {},
   "source": [
    "Version 2020.03.25. Simplest model\n",
    "-----------"
   ]
  },
  {
   "cell_type": "code",
   "execution_count": 89,
   "metadata": {},
   "outputs": [
    {
     "data": {
      "text/plain": [
       "'2.1.0'"
      ]
     },
     "execution_count": 89,
     "metadata": {},
     "output_type": "execute_result"
    }
   ],
   "source": [
    "import tensorflow as tf\n",
    "import numpy as np\n",
    "\n",
    "tf.__version__"
   ]
  },
  {
   "cell_type": "code",
   "execution_count": 99,
   "metadata": {},
   "outputs": [],
   "source": [
    "dataset = np.loadtxt(\"C:/Users/mod96/Desktop/HSH/DateSets/Stock1.csv\", delimiter=\",\").T\n",
    "MAX=np.min(dataset)\n",
    "dataset = dataset/(2*MAX) + 0.5"
   ]
  },
  {
   "cell_type": "code",
   "execution_count": 100,
   "metadata": {},
   "outputs": [
    {
     "name": "stdout",
     "output_type": "stream",
     "text": [
      "-98.068\n"
     ]
    }
   ],
   "source": [
    "시발....주가에서 0 가져오는 방법 알아내던가 / 2~30퍼 넘는 애들은 다 빼던가"
   ]
  },
  {
   "cell_type": "code",
   "execution_count": 94,
   "metadata": {},
   "outputs": [],
   "source": [
    "#############################Variables#############################\n",
    "seed = 9; trainrate=0.9; ell=len(dataset[0])-1\n",
    "###################################################################\n",
    "numpy.random.seed(seed)\n",
    "idx=round(len(dataset.T[0])*trainrate)\n",
    "\n",
    "Xtrain=dataset[0:idx,0:ell]\n",
    "Ytrain=dataset[1:idx+1,ell]\n",
    "Xtest=dataset[idx:-1,0:ell]\n",
    "Ytest=dataset[idx+1:,ell]"
   ]
  },
  {
   "cell_type": "code",
   "execution_count": 33,
   "metadata": {},
   "outputs": [],
   "source": [
    "'''class MyModel(tf.keras.Model):\n",
    "\n",
    "  def __init__(self):\n",
    "    super(MyModel, self).__init__()\n",
    "    self.dense1 = tf.keras.layers.Dense(25, activation=tf.nn.tanh)\n",
    "    self.dense2 = tf.keras.layers.Dense(10, activation=\"linear\")\n",
    "    self.dense3 = tf.keras.layers.Dense(10, activation=tf.nn.tanh)\n",
    "    self.dense4 = tf.keras.layers.Dense(1, activation=\"linear\")\n",
    "\n",
    "  def call(self, inputs):\n",
    "    x1 = self.dense1(inputs)\n",
    "    x2 = self.dense2(x1)\n",
    "    x3 = self.dense3(x2)\n",
    "    return self.dense4(x3)\n",
    "\n",
    "model = MyModel()\n",
    "model.compile(loss='mean_absolute_error',\n",
    "              optimizer='adam', metrics=['accuracy'])'''"
   ]
  },
  {
   "cell_type": "code",
   "execution_count": 95,
   "metadata": {},
   "outputs": [],
   "source": [
    "from tensorflow.keras import layers\n",
    "model = tf.keras.Sequential()\n",
    "model.add(layers.Dense(26, activation='linear'))\n",
    "model.add(layers.Dense(26, activation='tanh'))\n",
    "model.add(layers.Dense(10, activation='linear'))\n",
    "model.add(layers.Dense(5, activation='tanh'))\n",
    "model.add(layers.Dense(1, activation='linear'))\n",
    "model.compile(loss='mean_absolute_error',\n",
    "              optimizer='adam', metrics=['accuracy'])"
   ]
  },
  {
   "cell_type": "code",
   "execution_count": 96,
   "metadata": {
    "scrolled": true
   },
   "outputs": [
    {
     "name": "stdout",
     "output_type": "stream",
     "text": [
      "Train on 622 samples, validate on 70 samples\n",
      "Epoch 1/200\n",
      "622/622 [==============================] - 1s 1ms/sample - loss: 0.1447 - accuracy: 0.0000e+00 - val_loss: 0.0252 - val_accuracy: 0.0000e+00\n",
      "Epoch 2/200\n",
      "622/622 [==============================] - 0s 320us/sample - loss: 0.0273 - accuracy: 0.0000e+00 - val_loss: 0.0165 - val_accuracy: 0.0000e+00\n",
      "Epoch 3/200\n",
      "622/622 [==============================] - 0s 320us/sample - loss: 0.0257 - accuracy: 0.0000e+00 - val_loss: 0.0178 - val_accuracy: 0.0000e+00\n",
      "Epoch 4/200\n",
      "622/622 [==============================] - 0s 318us/sample - loss: 0.0251 - accuracy: 0.0000e+00 - val_loss: 0.0165 - val_accuracy: 0.0000e+00\n",
      "Epoch 5/200\n",
      "622/622 [==============================] - 0s 320us/sample - loss: 0.0242 - accuracy: 0.0000e+00 - val_loss: 0.0168 - val_accuracy: 0.0000e+00\n",
      "Epoch 6/200\n",
      "622/622 [==============================] - 0s 320us/sample - loss: 0.0241 - accuracy: 0.0000e+00 - val_loss: 0.0186 - val_accuracy: 0.0000e+00\n",
      "Epoch 7/200\n",
      "622/622 [==============================] - 0s 330us/sample - loss: 0.0252 - accuracy: 0.0000e+00 - val_loss: 0.0183 - val_accuracy: 0.0000e+00\n",
      "Epoch 8/200\n",
      "622/622 [==============================] - 0s 317us/sample - loss: 0.0245 - accuracy: 0.0000e+00 - val_loss: 0.0224 - val_accuracy: 0.0000e+00\n",
      "Epoch 9/200\n",
      "622/622 [==============================] - 0s 317us/sample - loss: 0.0242 - accuracy: 0.0000e+00 - val_loss: 0.0179 - val_accuracy: 0.0000e+00\n",
      "Epoch 10/200\n",
      "622/622 [==============================] - 0s 331us/sample - loss: 0.0234 - accuracy: 0.0000e+00 - val_loss: 0.0183 - val_accuracy: 0.0000e+00\n",
      "Epoch 11/200\n",
      "622/622 [==============================] - 0s 331us/sample - loss: 0.0238 - accuracy: 0.0000e+00 - val_loss: 0.0178 - val_accuracy: 0.0000e+00\n",
      "Epoch 12/200\n",
      "622/622 [==============================] - 0s 317us/sample - loss: 0.0240 - accuracy: 0.0000e+00 - val_loss: 0.0180 - val_accuracy: 0.0000e+00\n",
      "Epoch 13/200\n",
      "622/622 [==============================] - 0s 314us/sample - loss: 0.0234 - accuracy: 0.0000e+00 - val_loss: 0.0208 - val_accuracy: 0.0000e+00\n",
      "Epoch 14/200\n",
      "622/622 [==============================] - 0s 340us/sample - loss: 0.0234 - accuracy: 0.0000e+00 - val_loss: 0.0187 - val_accuracy: 0.0000e+00\n",
      "Epoch 15/200\n",
      "622/622 [==============================] - 0s 323us/sample - loss: 0.0230 - accuracy: 0.0000e+00 - val_loss: 0.0172 - val_accuracy: 0.0000e+00\n",
      "Epoch 16/200\n",
      "622/622 [==============================] - 0s 331us/sample - loss: 0.0236 - accuracy: 0.0000e+00 - val_loss: 0.0176 - val_accuracy: 0.0000e+00\n",
      "Epoch 17/200\n",
      "622/622 [==============================] - 0s 323us/sample - loss: 0.0247 - accuracy: 0.0000e+00 - val_loss: 0.0170 - val_accuracy: 0.0000e+00\n",
      "Epoch 18/200\n",
      "622/622 [==============================] - 0s 317us/sample - loss: 0.0233 - accuracy: 0.0000e+00 - val_loss: 0.0170 - val_accuracy: 0.0000e+00\n",
      "Epoch 19/200\n",
      "622/622 [==============================] - 0s 325us/sample - loss: 0.0234 - accuracy: 0.0000e+00 - val_loss: 0.0170 - val_accuracy: 0.0000e+00\n",
      "Epoch 20/200\n",
      "622/622 [==============================] - 0s 318us/sample - loss: 0.0244 - accuracy: 0.0000e+00 - val_loss: 0.0194 - val_accuracy: 0.0000e+00\n",
      "Epoch 21/200\n",
      "622/622 [==============================] - 0s 317us/sample - loss: 0.0227 - accuracy: 0.0000e+00 - val_loss: 0.0171 - val_accuracy: 0.0000e+00\n",
      "Epoch 22/200\n",
      "622/622 [==============================] - 0s 347us/sample - loss: 0.0228 - accuracy: 0.0000e+00 - val_loss: 0.0172 - val_accuracy: 0.0000e+00\n",
      "Epoch 23/200\n",
      "622/622 [==============================] - 0s 323us/sample - loss: 0.0228 - accuracy: 0.0000e+00 - val_loss: 0.0200 - val_accuracy: 0.0000e+00\n",
      "Epoch 24/200\n",
      "622/622 [==============================] - 0s 326us/sample - loss: 0.0247 - accuracy: 0.0000e+00 - val_loss: 0.0178 - val_accuracy: 0.0000e+00\n",
      "Epoch 25/200\n",
      "622/622 [==============================] - 0s 317us/sample - loss: 0.0238 - accuracy: 0.0000e+00 - val_loss: 0.0185 - val_accuracy: 0.0000e+00\n",
      "Epoch 26/200\n",
      "622/622 [==============================] - 0s 347us/sample - loss: 0.0243 - accuracy: 0.0000e+00 - val_loss: 0.0171 - val_accuracy: 0.0000e+00\n",
      "Epoch 27/200\n",
      "622/622 [==============================] - 0s 331us/sample - loss: 0.0232 - accuracy: 0.0000e+00 - val_loss: 0.0187 - val_accuracy: 0.0000e+00\n",
      "Epoch 28/200\n",
      "622/622 [==============================] - 0s 328us/sample - loss: 0.0236 - accuracy: 0.0000e+00 - val_loss: 0.0180 - val_accuracy: 0.0000e+00\n",
      "Epoch 29/200\n",
      "622/622 [==============================] - 0s 347us/sample - loss: 0.0230 - accuracy: 0.0000e+00 - val_loss: 0.0175 - val_accuracy: 0.0000e+00\n",
      "Epoch 30/200\n",
      "622/622 [==============================] - 0s 351us/sample - loss: 0.0237 - accuracy: 0.0000e+00 - val_loss: 0.0198 - val_accuracy: 0.0000e+00\n",
      "Epoch 31/200\n",
      "622/622 [==============================] - 0s 404us/sample - loss: 0.0230 - accuracy: 0.0000e+00 - val_loss: 0.0172 - val_accuracy: 0.0000e+00\n",
      "Epoch 32/200\n",
      "622/622 [==============================] - 0s 351us/sample - loss: 0.0229 - accuracy: 0.0000e+00 - val_loss: 0.0176 - val_accuracy: 0.0000e+00\n",
      "Epoch 33/200\n",
      "622/622 [==============================] - 0s 376us/sample - loss: 0.0231 - accuracy: 0.0000e+00 - val_loss: 0.0201 - val_accuracy: 0.0000e+00\n",
      "Epoch 34/200\n",
      "622/622 [==============================] - 0s 360us/sample - loss: 0.0231 - accuracy: 0.0000e+00 - val_loss: 0.0175 - val_accuracy: 0.0000e+00\n",
      "Epoch 35/200\n",
      "622/622 [==============================] - 0s 373us/sample - loss: 0.0241 - accuracy: 0.0000e+00 - val_loss: 0.0173 - val_accuracy: 0.0000e+00\n",
      "Epoch 36/200\n",
      "622/622 [==============================] - 0s 323us/sample - loss: 0.0230 - accuracy: 0.0000e+00 - val_loss: 0.0174 - val_accuracy: 0.0000e+00\n",
      "Epoch 37/200\n",
      "622/622 [==============================] - 0s 331us/sample - loss: 0.0229 - accuracy: 0.0000e+00 - val_loss: 0.0172 - val_accuracy: 0.0000e+00\n",
      "Epoch 38/200\n",
      "622/622 [==============================] - 0s 330us/sample - loss: 0.0231 - accuracy: 0.0000e+00 - val_loss: 0.0173 - val_accuracy: 0.0000e+00\n",
      "Epoch 39/200\n",
      "622/622 [==============================] - 0s 315us/sample - loss: 0.0229 - accuracy: 0.0000e+00 - val_loss: 0.0173 - val_accuracy: 0.0000e+00\n",
      "Epoch 40/200\n",
      "622/622 [==============================] - 0s 333us/sample - loss: 0.0229 - accuracy: 0.0000e+00 - val_loss: 0.0173 - val_accuracy: 0.0000e+00\n",
      "Epoch 41/200\n",
      "622/622 [==============================] - 0s 322us/sample - loss: 0.0229 - accuracy: 0.0000e+00 - val_loss: 0.0178 - val_accuracy: 0.0000e+00\n",
      "Epoch 42/200\n",
      "622/622 [==============================] - 0s 325us/sample - loss: 0.0228 - accuracy: 0.0000e+00 - val_loss: 0.0185 - val_accuracy: 0.0000e+00\n",
      "Epoch 43/200\n",
      "622/622 [==============================] - 0s 333us/sample - loss: 0.0235 - accuracy: 0.0000e+00 - val_loss: 0.0176 - val_accuracy: 0.0000e+00\n",
      "Epoch 44/200\n",
      "622/622 [==============================] - 0s 315us/sample - loss: 0.0229 - accuracy: 0.0000e+00 - val_loss: 0.0191 - val_accuracy: 0.0000e+00\n",
      "Epoch 45/200\n",
      "622/622 [==============================] - 0s 331us/sample - loss: 0.0233 - accuracy: 0.0000e+00 - val_loss: 0.0177 - val_accuracy: 0.0000e+00\n",
      "Epoch 46/200\n",
      "622/622 [==============================] - 0s 322us/sample - loss: 0.0231 - accuracy: 0.0000e+00 - val_loss: 0.0174 - val_accuracy: 0.0000e+00\n",
      "Epoch 47/200\n",
      "622/622 [==============================] - 0s 328us/sample - loss: 0.0231 - accuracy: 0.0000e+00 - val_loss: 0.0175 - val_accuracy: 0.0000e+00\n",
      "Epoch 48/200\n",
      "622/622 [==============================] - 0s 322us/sample - loss: 0.0230 - accuracy: 0.0000e+00 - val_loss: 0.0173 - val_accuracy: 0.0000e+00\n",
      "Epoch 49/200\n",
      "622/622 [==============================] - 0s 328us/sample - loss: 0.0231 - accuracy: 0.0000e+00 - val_loss: 0.0176 - val_accuracy: 0.0000e+00\n",
      "Epoch 50/200\n",
      "622/622 [==============================] - 0s 329us/sample - loss: 0.0228 - accuracy: 0.0000e+00 - val_loss: 0.0175 - val_accuracy: 0.0000e+00\n",
      "Epoch 51/200\n",
      "622/622 [==============================] - 0s 338us/sample - loss: 0.0229 - accuracy: 0.0000e+00 - val_loss: 0.0176 - val_accuracy: 0.0000e+00\n",
      "Epoch 52/200\n",
      "622/622 [==============================] - 0s 323us/sample - loss: 0.0231 - accuracy: 0.0000e+00 - val_loss: 0.0176 - val_accuracy: 0.0000e+00\n",
      "Epoch 53/200\n"
     ]
    },
    {
     "name": "stdout",
     "output_type": "stream",
     "text": [
      "622/622 [==============================] - 0s 334us/sample - loss: 0.0231 - accuracy: 0.0000e+00 - val_loss: 0.0178 - val_accuracy: 0.0000e+00\n",
      "Epoch 54/200\n",
      "622/622 [==============================] - 0s 317us/sample - loss: 0.0225 - accuracy: 0.0000e+00 - val_loss: 0.0202 - val_accuracy: 0.0000e+00\n",
      "Epoch 55/200\n",
      "622/622 [==============================] - 0s 336us/sample - loss: 0.0233 - accuracy: 0.0000e+00 - val_loss: 0.0174 - val_accuracy: 0.0000e+00\n",
      "Epoch 56/200\n",
      "622/622 [==============================] - 0s 322us/sample - loss: 0.0228 - accuracy: 0.0000e+00 - val_loss: 0.0198 - val_accuracy: 0.0000e+00\n",
      "Epoch 57/200\n",
      "622/622 [==============================] - 0s 320us/sample - loss: 0.0237 - accuracy: 0.0000e+00 - val_loss: 0.0183 - val_accuracy: 0.0000e+00\n",
      "Epoch 58/200\n",
      "622/622 [==============================] - 0s 331us/sample - loss: 0.0234 - accuracy: 0.0000e+00 - val_loss: 0.0175 - val_accuracy: 0.0000e+00\n",
      "Epoch 59/200\n",
      "622/622 [==============================] - 0s 317us/sample - loss: 0.0229 - accuracy: 0.0000e+00 - val_loss: 0.0176 - val_accuracy: 0.0000e+00\n",
      "Epoch 60/200\n",
      "622/622 [==============================] - 0s 339us/sample - loss: 0.0227 - accuracy: 0.0000e+00 - val_loss: 0.0174 - val_accuracy: 0.0000e+00\n",
      "Epoch 61/200\n",
      "622/622 [==============================] - 0s 320us/sample - loss: 0.0227 - accuracy: 0.0000e+00 - val_loss: 0.0182 - val_accuracy: 0.0000e+00\n",
      "Epoch 62/200\n",
      "622/622 [==============================] - 0s 333us/sample - loss: 0.0230 - accuracy: 0.0000e+00 - val_loss: 0.0174 - val_accuracy: 0.0000e+00\n",
      "Epoch 63/200\n",
      "622/622 [==============================] - 0s 313us/sample - loss: 0.0230 - accuracy: 0.0000e+00 - val_loss: 0.0173 - val_accuracy: 0.0000e+00\n",
      "Epoch 64/200\n",
      "622/622 [==============================] - 0s 312us/sample - loss: 0.0230 - accuracy: 0.0000e+00 - val_loss: 0.0177 - val_accuracy: 0.0000e+00\n",
      "Epoch 65/200\n",
      "622/622 [==============================] - 0s 323us/sample - loss: 0.0232 - accuracy: 0.0000e+00 - val_loss: 0.0182 - val_accuracy: 0.0000e+00\n",
      "Epoch 66/200\n",
      "622/622 [==============================] - 0s 317us/sample - loss: 0.0227 - accuracy: 0.0000e+00 - val_loss: 0.0175 - val_accuracy: 0.0000e+00\n",
      "Epoch 67/200\n",
      "622/622 [==============================] - 0s 325us/sample - loss: 0.0228 - accuracy: 0.0000e+00 - val_loss: 0.0174 - val_accuracy: 0.0000e+00\n",
      "Epoch 68/200\n",
      "622/622 [==============================] - 0s 338us/sample - loss: 0.0230 - accuracy: 0.0000e+00 - val_loss: 0.0173 - val_accuracy: 0.0000e+00\n",
      "Epoch 69/200\n",
      "622/622 [==============================] - 0s 330us/sample - loss: 0.0232 - accuracy: 0.0000e+00 - val_loss: 0.0175 - val_accuracy: 0.0000e+00\n",
      "Epoch 70/200\n",
      "622/622 [==============================] - 0s 320us/sample - loss: 0.0228 - accuracy: 0.0000e+00 - val_loss: 0.0173 - val_accuracy: 0.0000e+00\n",
      "Epoch 71/200\n",
      "622/622 [==============================] - 0s 326us/sample - loss: 0.0230 - accuracy: 0.0000e+00 - val_loss: 0.0173 - val_accuracy: 0.0000e+00\n",
      "Epoch 72/200\n",
      "622/622 [==============================] - 0s 320us/sample - loss: 0.0231 - accuracy: 0.0000e+00 - val_loss: 0.0178 - val_accuracy: 0.0000e+00\n",
      "Epoch 73/200\n",
      "622/622 [==============================] - 0s 317us/sample - loss: 0.0231 - accuracy: 0.0000e+00 - val_loss: 0.0175 - val_accuracy: 0.0000e+00\n",
      "Epoch 74/200\n",
      "622/622 [==============================] - 0s 324us/sample - loss: 0.0228 - accuracy: 0.0000e+00 - val_loss: 0.0174 - val_accuracy: 0.0000e+00\n",
      "Epoch 75/200\n",
      "570/622 [==========================>...] - ETA: 0s - loss: 0.0226 - accuracy: 0.0000e+00"
     ]
    },
    {
     "ename": "KeyboardInterrupt",
     "evalue": "",
     "output_type": "error",
     "traceback": [
      "\u001b[1;31m---------------------------------------------------------------------------\u001b[0m",
      "\u001b[1;31mKeyboardInterrupt\u001b[0m                         Traceback (most recent call last)",
      "\u001b[1;32m<ipython-input-96-0b84eda4111f>\u001b[0m in \u001b[0;36m<module>\u001b[1;34m\u001b[0m\n\u001b[1;32m----> 1\u001b[1;33m \u001b[0mmodel\u001b[0m\u001b[1;33m.\u001b[0m\u001b[0mfit\u001b[0m\u001b[1;33m(\u001b[0m\u001b[0mXtrain\u001b[0m\u001b[1;33m,\u001b[0m \u001b[0mYtrain\u001b[0m\u001b[1;33m,\u001b[0m \u001b[0mvalidation_split\u001b[0m\u001b[1;33m=\u001b[0m\u001b[1;36m0.1\u001b[0m\u001b[1;33m,\u001b[0m \u001b[0mepochs\u001b[0m\u001b[1;33m=\u001b[0m\u001b[1;36m200\u001b[0m\u001b[1;33m,\u001b[0m \u001b[0mbatch_size\u001b[0m\u001b[1;33m=\u001b[0m\u001b[1;36m10\u001b[0m\u001b[1;33m)\u001b[0m\u001b[1;33m\u001b[0m\u001b[1;33m\u001b[0m\u001b[0m\n\u001b[0m",
      "\u001b[1;32mC:\\ProgramData\\Anaconda3\\lib\\site-packages\\tensorflow_core\\python\\keras\\engine\\training.py\u001b[0m in \u001b[0;36mfit\u001b[1;34m(self, x, y, batch_size, epochs, verbose, callbacks, validation_split, validation_data, shuffle, class_weight, sample_weight, initial_epoch, steps_per_epoch, validation_steps, validation_freq, max_queue_size, workers, use_multiprocessing, **kwargs)\u001b[0m\n\u001b[0;32m    817\u001b[0m         \u001b[0mmax_queue_size\u001b[0m\u001b[1;33m=\u001b[0m\u001b[0mmax_queue_size\u001b[0m\u001b[1;33m,\u001b[0m\u001b[1;33m\u001b[0m\u001b[1;33m\u001b[0m\u001b[0m\n\u001b[0;32m    818\u001b[0m         \u001b[0mworkers\u001b[0m\u001b[1;33m=\u001b[0m\u001b[0mworkers\u001b[0m\u001b[1;33m,\u001b[0m\u001b[1;33m\u001b[0m\u001b[1;33m\u001b[0m\u001b[0m\n\u001b[1;32m--> 819\u001b[1;33m         use_multiprocessing=use_multiprocessing)\n\u001b[0m\u001b[0;32m    820\u001b[0m \u001b[1;33m\u001b[0m\u001b[0m\n\u001b[0;32m    821\u001b[0m   def evaluate(self,\n",
      "\u001b[1;32mC:\\ProgramData\\Anaconda3\\lib\\site-packages\\tensorflow_core\\python\\keras\\engine\\training_v2.py\u001b[0m in \u001b[0;36mfit\u001b[1;34m(self, model, x, y, batch_size, epochs, verbose, callbacks, validation_split, validation_data, shuffle, class_weight, sample_weight, initial_epoch, steps_per_epoch, validation_steps, validation_freq, max_queue_size, workers, use_multiprocessing, **kwargs)\u001b[0m\n\u001b[0;32m    340\u001b[0m                 \u001b[0mmode\u001b[0m\u001b[1;33m=\u001b[0m\u001b[0mModeKeys\u001b[0m\u001b[1;33m.\u001b[0m\u001b[0mTRAIN\u001b[0m\u001b[1;33m,\u001b[0m\u001b[1;33m\u001b[0m\u001b[1;33m\u001b[0m\u001b[0m\n\u001b[0;32m    341\u001b[0m                 \u001b[0mtraining_context\u001b[0m\u001b[1;33m=\u001b[0m\u001b[0mtraining_context\u001b[0m\u001b[1;33m,\u001b[0m\u001b[1;33m\u001b[0m\u001b[1;33m\u001b[0m\u001b[0m\n\u001b[1;32m--> 342\u001b[1;33m                 total_epochs=epochs)\n\u001b[0m\u001b[0;32m    343\u001b[0m             \u001b[0mcbks\u001b[0m\u001b[1;33m.\u001b[0m\u001b[0mmake_logs\u001b[0m\u001b[1;33m(\u001b[0m\u001b[0mmodel\u001b[0m\u001b[1;33m,\u001b[0m \u001b[0mepoch_logs\u001b[0m\u001b[1;33m,\u001b[0m \u001b[0mtraining_result\u001b[0m\u001b[1;33m,\u001b[0m \u001b[0mModeKeys\u001b[0m\u001b[1;33m.\u001b[0m\u001b[0mTRAIN\u001b[0m\u001b[1;33m)\u001b[0m\u001b[1;33m\u001b[0m\u001b[1;33m\u001b[0m\u001b[0m\n\u001b[0;32m    344\u001b[0m \u001b[1;33m\u001b[0m\u001b[0m\n",
      "\u001b[1;32mC:\\ProgramData\\Anaconda3\\lib\\site-packages\\tensorflow_core\\python\\keras\\engine\\training_v2.py\u001b[0m in \u001b[0;36mrun_one_epoch\u001b[1;34m(model, iterator, execution_function, dataset_size, batch_size, strategy, steps_per_epoch, num_samples, mode, training_context, total_epochs)\u001b[0m\n\u001b[0;32m    126\u001b[0m         step=step, mode=mode, size=current_batch_size) as batch_logs:\n\u001b[0;32m    127\u001b[0m       \u001b[1;32mtry\u001b[0m\u001b[1;33m:\u001b[0m\u001b[1;33m\u001b[0m\u001b[1;33m\u001b[0m\u001b[0m\n\u001b[1;32m--> 128\u001b[1;33m         \u001b[0mbatch_outs\u001b[0m \u001b[1;33m=\u001b[0m \u001b[0mexecution_function\u001b[0m\u001b[1;33m(\u001b[0m\u001b[0miterator\u001b[0m\u001b[1;33m)\u001b[0m\u001b[1;33m\u001b[0m\u001b[1;33m\u001b[0m\u001b[0m\n\u001b[0m\u001b[0;32m    129\u001b[0m       \u001b[1;32mexcept\u001b[0m \u001b[1;33m(\u001b[0m\u001b[0mStopIteration\u001b[0m\u001b[1;33m,\u001b[0m \u001b[0merrors\u001b[0m\u001b[1;33m.\u001b[0m\u001b[0mOutOfRangeError\u001b[0m\u001b[1;33m)\u001b[0m\u001b[1;33m:\u001b[0m\u001b[1;33m\u001b[0m\u001b[1;33m\u001b[0m\u001b[0m\n\u001b[0;32m    130\u001b[0m         \u001b[1;31m# TODO(kaftan): File bug about tf function and errors.OutOfRangeError?\u001b[0m\u001b[1;33m\u001b[0m\u001b[1;33m\u001b[0m\u001b[1;33m\u001b[0m\u001b[0m\n",
      "\u001b[1;32mC:\\ProgramData\\Anaconda3\\lib\\site-packages\\tensorflow_core\\python\\keras\\engine\\training_v2_utils.py\u001b[0m in \u001b[0;36mexecution_function\u001b[1;34m(input_fn)\u001b[0m\n\u001b[0;32m     96\u001b[0m     \u001b[1;31m# `numpy` translates Tensors to values in Eager mode.\u001b[0m\u001b[1;33m\u001b[0m\u001b[1;33m\u001b[0m\u001b[1;33m\u001b[0m\u001b[0m\n\u001b[0;32m     97\u001b[0m     return nest.map_structure(_non_none_constant_value,\n\u001b[1;32m---> 98\u001b[1;33m                               distributed_function(input_fn))\n\u001b[0m\u001b[0;32m     99\u001b[0m \u001b[1;33m\u001b[0m\u001b[0m\n\u001b[0;32m    100\u001b[0m   \u001b[1;32mreturn\u001b[0m \u001b[0mexecution_function\u001b[0m\u001b[1;33m\u001b[0m\u001b[1;33m\u001b[0m\u001b[0m\n",
      "\u001b[1;32mC:\\ProgramData\\Anaconda3\\lib\\site-packages\\tensorflow_core\\python\\eager\\def_function.py\u001b[0m in \u001b[0;36m__call__\u001b[1;34m(self, *args, **kwds)\u001b[0m\n\u001b[0;32m    566\u001b[0m         \u001b[0mxla_context\u001b[0m\u001b[1;33m.\u001b[0m\u001b[0mExit\u001b[0m\u001b[1;33m(\u001b[0m\u001b[1;33m)\u001b[0m\u001b[1;33m\u001b[0m\u001b[1;33m\u001b[0m\u001b[0m\n\u001b[0;32m    567\u001b[0m     \u001b[1;32melse\u001b[0m\u001b[1;33m:\u001b[0m\u001b[1;33m\u001b[0m\u001b[1;33m\u001b[0m\u001b[0m\n\u001b[1;32m--> 568\u001b[1;33m       \u001b[0mresult\u001b[0m \u001b[1;33m=\u001b[0m \u001b[0mself\u001b[0m\u001b[1;33m.\u001b[0m\u001b[0m_call\u001b[0m\u001b[1;33m(\u001b[0m\u001b[1;33m*\u001b[0m\u001b[0margs\u001b[0m\u001b[1;33m,\u001b[0m \u001b[1;33m**\u001b[0m\u001b[0mkwds\u001b[0m\u001b[1;33m)\u001b[0m\u001b[1;33m\u001b[0m\u001b[1;33m\u001b[0m\u001b[0m\n\u001b[0m\u001b[0;32m    569\u001b[0m \u001b[1;33m\u001b[0m\u001b[0m\n\u001b[0;32m    570\u001b[0m     \u001b[1;32mif\u001b[0m \u001b[0mtracing_count\u001b[0m \u001b[1;33m==\u001b[0m \u001b[0mself\u001b[0m\u001b[1;33m.\u001b[0m\u001b[0m_get_tracing_count\u001b[0m\u001b[1;33m(\u001b[0m\u001b[1;33m)\u001b[0m\u001b[1;33m:\u001b[0m\u001b[1;33m\u001b[0m\u001b[1;33m\u001b[0m\u001b[0m\n",
      "\u001b[1;32mC:\\ProgramData\\Anaconda3\\lib\\site-packages\\tensorflow_core\\python\\eager\\def_function.py\u001b[0m in \u001b[0;36m_call\u001b[1;34m(self, *args, **kwds)\u001b[0m\n\u001b[0;32m    597\u001b[0m       \u001b[1;31m# In this case we have created variables on the first call, so we run the\u001b[0m\u001b[1;33m\u001b[0m\u001b[1;33m\u001b[0m\u001b[1;33m\u001b[0m\u001b[0m\n\u001b[0;32m    598\u001b[0m       \u001b[1;31m# defunned version which is guaranteed to never create variables.\u001b[0m\u001b[1;33m\u001b[0m\u001b[1;33m\u001b[0m\u001b[1;33m\u001b[0m\u001b[0m\n\u001b[1;32m--> 599\u001b[1;33m       \u001b[1;32mreturn\u001b[0m \u001b[0mself\u001b[0m\u001b[1;33m.\u001b[0m\u001b[0m_stateless_fn\u001b[0m\u001b[1;33m(\u001b[0m\u001b[1;33m*\u001b[0m\u001b[0margs\u001b[0m\u001b[1;33m,\u001b[0m \u001b[1;33m**\u001b[0m\u001b[0mkwds\u001b[0m\u001b[1;33m)\u001b[0m  \u001b[1;31m# pylint: disable=not-callable\u001b[0m\u001b[1;33m\u001b[0m\u001b[1;33m\u001b[0m\u001b[0m\n\u001b[0m\u001b[0;32m    600\u001b[0m     \u001b[1;32melif\u001b[0m \u001b[0mself\u001b[0m\u001b[1;33m.\u001b[0m\u001b[0m_stateful_fn\u001b[0m \u001b[1;32mis\u001b[0m \u001b[1;32mnot\u001b[0m \u001b[1;32mNone\u001b[0m\u001b[1;33m:\u001b[0m\u001b[1;33m\u001b[0m\u001b[1;33m\u001b[0m\u001b[0m\n\u001b[0;32m    601\u001b[0m       \u001b[1;31m# Release the lock early so that multiple threads can perform the call\u001b[0m\u001b[1;33m\u001b[0m\u001b[1;33m\u001b[0m\u001b[1;33m\u001b[0m\u001b[0m\n",
      "\u001b[1;32mC:\\ProgramData\\Anaconda3\\lib\\site-packages\\tensorflow_core\\python\\eager\\function.py\u001b[0m in \u001b[0;36m__call__\u001b[1;34m(self, *args, **kwargs)\u001b[0m\n\u001b[0;32m   2361\u001b[0m     \u001b[1;32mwith\u001b[0m \u001b[0mself\u001b[0m\u001b[1;33m.\u001b[0m\u001b[0m_lock\u001b[0m\u001b[1;33m:\u001b[0m\u001b[1;33m\u001b[0m\u001b[1;33m\u001b[0m\u001b[0m\n\u001b[0;32m   2362\u001b[0m       \u001b[0mgraph_function\u001b[0m\u001b[1;33m,\u001b[0m \u001b[0margs\u001b[0m\u001b[1;33m,\u001b[0m \u001b[0mkwargs\u001b[0m \u001b[1;33m=\u001b[0m \u001b[0mself\u001b[0m\u001b[1;33m.\u001b[0m\u001b[0m_maybe_define_function\u001b[0m\u001b[1;33m(\u001b[0m\u001b[0margs\u001b[0m\u001b[1;33m,\u001b[0m \u001b[0mkwargs\u001b[0m\u001b[1;33m)\u001b[0m\u001b[1;33m\u001b[0m\u001b[1;33m\u001b[0m\u001b[0m\n\u001b[1;32m-> 2363\u001b[1;33m     \u001b[1;32mreturn\u001b[0m \u001b[0mgraph_function\u001b[0m\u001b[1;33m.\u001b[0m\u001b[0m_filtered_call\u001b[0m\u001b[1;33m(\u001b[0m\u001b[0margs\u001b[0m\u001b[1;33m,\u001b[0m \u001b[0mkwargs\u001b[0m\u001b[1;33m)\u001b[0m  \u001b[1;31m# pylint: disable=protected-access\u001b[0m\u001b[1;33m\u001b[0m\u001b[1;33m\u001b[0m\u001b[0m\n\u001b[0m\u001b[0;32m   2364\u001b[0m \u001b[1;33m\u001b[0m\u001b[0m\n\u001b[0;32m   2365\u001b[0m   \u001b[1;33m@\u001b[0m\u001b[0mproperty\u001b[0m\u001b[1;33m\u001b[0m\u001b[1;33m\u001b[0m\u001b[0m\n",
      "\u001b[1;32mC:\\ProgramData\\Anaconda3\\lib\\site-packages\\tensorflow_core\\python\\eager\\function.py\u001b[0m in \u001b[0;36m_filtered_call\u001b[1;34m(self, args, kwargs)\u001b[0m\n\u001b[0;32m   1609\u001b[0m          if isinstance(t, (ops.Tensor,\n\u001b[0;32m   1610\u001b[0m                            resource_variable_ops.BaseResourceVariable))),\n\u001b[1;32m-> 1611\u001b[1;33m         self.captured_inputs)\n\u001b[0m\u001b[0;32m   1612\u001b[0m \u001b[1;33m\u001b[0m\u001b[0m\n\u001b[0;32m   1613\u001b[0m   \u001b[1;32mdef\u001b[0m \u001b[0m_call_flat\u001b[0m\u001b[1;33m(\u001b[0m\u001b[0mself\u001b[0m\u001b[1;33m,\u001b[0m \u001b[0margs\u001b[0m\u001b[1;33m,\u001b[0m \u001b[0mcaptured_inputs\u001b[0m\u001b[1;33m,\u001b[0m \u001b[0mcancellation_manager\u001b[0m\u001b[1;33m=\u001b[0m\u001b[1;32mNone\u001b[0m\u001b[1;33m)\u001b[0m\u001b[1;33m:\u001b[0m\u001b[1;33m\u001b[0m\u001b[1;33m\u001b[0m\u001b[0m\n",
      "\u001b[1;32mC:\\ProgramData\\Anaconda3\\lib\\site-packages\\tensorflow_core\\python\\eager\\function.py\u001b[0m in \u001b[0;36m_call_flat\u001b[1;34m(self, args, captured_inputs, cancellation_manager)\u001b[0m\n\u001b[0;32m   1690\u001b[0m       \u001b[1;31m# No tape is watching; skip to running the function.\u001b[0m\u001b[1;33m\u001b[0m\u001b[1;33m\u001b[0m\u001b[1;33m\u001b[0m\u001b[0m\n\u001b[0;32m   1691\u001b[0m       return self._build_call_outputs(self._inference_function.call(\n\u001b[1;32m-> 1692\u001b[1;33m           ctx, args, cancellation_manager=cancellation_manager))\n\u001b[0m\u001b[0;32m   1693\u001b[0m     forward_backward = self._select_forward_and_backward_functions(\n\u001b[0;32m   1694\u001b[0m         \u001b[0margs\u001b[0m\u001b[1;33m,\u001b[0m\u001b[1;33m\u001b[0m\u001b[1;33m\u001b[0m\u001b[0m\n",
      "\u001b[1;32mC:\\ProgramData\\Anaconda3\\lib\\site-packages\\tensorflow_core\\python\\eager\\function.py\u001b[0m in \u001b[0;36mcall\u001b[1;34m(self, ctx, args, cancellation_manager)\u001b[0m\n\u001b[0;32m    543\u001b[0m               \u001b[0minputs\u001b[0m\u001b[1;33m=\u001b[0m\u001b[0margs\u001b[0m\u001b[1;33m,\u001b[0m\u001b[1;33m\u001b[0m\u001b[1;33m\u001b[0m\u001b[0m\n\u001b[0;32m    544\u001b[0m               \u001b[0mattrs\u001b[0m\u001b[1;33m=\u001b[0m\u001b[1;33m(\u001b[0m\u001b[1;34m\"executor_type\"\u001b[0m\u001b[1;33m,\u001b[0m \u001b[0mexecutor_type\u001b[0m\u001b[1;33m,\u001b[0m \u001b[1;34m\"config_proto\"\u001b[0m\u001b[1;33m,\u001b[0m \u001b[0mconfig\u001b[0m\u001b[1;33m)\u001b[0m\u001b[1;33m,\u001b[0m\u001b[1;33m\u001b[0m\u001b[1;33m\u001b[0m\u001b[0m\n\u001b[1;32m--> 545\u001b[1;33m               ctx=ctx)\n\u001b[0m\u001b[0;32m    546\u001b[0m         \u001b[1;32melse\u001b[0m\u001b[1;33m:\u001b[0m\u001b[1;33m\u001b[0m\u001b[1;33m\u001b[0m\u001b[0m\n\u001b[0;32m    547\u001b[0m           outputs = execute.execute_with_cancellation(\n",
      "\u001b[1;32mC:\\ProgramData\\Anaconda3\\lib\\site-packages\\tensorflow_core\\python\\eager\\execute.py\u001b[0m in \u001b[0;36mquick_execute\u001b[1;34m(op_name, num_outputs, inputs, attrs, ctx, name)\u001b[0m\n\u001b[0;32m     59\u001b[0m     tensors = pywrap_tensorflow.TFE_Py_Execute(ctx._handle, device_name,\n\u001b[0;32m     60\u001b[0m                                                \u001b[0mop_name\u001b[0m\u001b[1;33m,\u001b[0m \u001b[0minputs\u001b[0m\u001b[1;33m,\u001b[0m \u001b[0mattrs\u001b[0m\u001b[1;33m,\u001b[0m\u001b[1;33m\u001b[0m\u001b[1;33m\u001b[0m\u001b[0m\n\u001b[1;32m---> 61\u001b[1;33m                                                num_outputs)\n\u001b[0m\u001b[0;32m     62\u001b[0m   \u001b[1;32mexcept\u001b[0m \u001b[0mcore\u001b[0m\u001b[1;33m.\u001b[0m\u001b[0m_NotOkStatusException\u001b[0m \u001b[1;32mas\u001b[0m \u001b[0me\u001b[0m\u001b[1;33m:\u001b[0m\u001b[1;33m\u001b[0m\u001b[1;33m\u001b[0m\u001b[0m\n\u001b[0;32m     63\u001b[0m     \u001b[1;32mif\u001b[0m \u001b[0mname\u001b[0m \u001b[1;32mis\u001b[0m \u001b[1;32mnot\u001b[0m \u001b[1;32mNone\u001b[0m\u001b[1;33m:\u001b[0m\u001b[1;33m\u001b[0m\u001b[1;33m\u001b[0m\u001b[0m\n",
      "\u001b[1;31mKeyboardInterrupt\u001b[0m: "
     ]
    }
   ],
   "source": [
    "model.fit(Xtrain, Ytrain, validation_split=0.1, epochs=200, batch_size=10)"
   ]
  },
  {
   "cell_type": "code",
   "execution_count": 83,
   "metadata": {},
   "outputs": [
    {
     "name": "stdout",
     "output_type": "stream",
     "text": [
      "76/76 [==============================] - 0s 2ms/sample - loss: 2.3482 - accuracy: 0.0263\n",
      "accuracy: 2.63%\n"
     ]
    }
   ],
   "source": [
    "scores=model.evaluate(Xtest,  Ytest)\n",
    "print(\"%s: %.2f%%\" % (model.metrics_names[1], scores[1] * 100))"
   ]
  },
  {
   "cell_type": "code",
   "execution_count": 84,
   "metadata": {},
   "outputs": [
    {
     "name": "stdout",
     "output_type": "stream",
     "text": [
      "Model: \"sequential_14\"\n",
      "_________________________________________________________________\n",
      "Layer (type)                 Output Shape              Param #   \n",
      "=================================================================\n",
      "dense_91 (Dense)             multiple                  702       \n",
      "_________________________________________________________________\n",
      "dense_92 (Dense)             multiple                  702       \n",
      "_________________________________________________________________\n",
      "dense_93 (Dense)             multiple                  270       \n",
      "_________________________________________________________________\n",
      "dense_94 (Dense)             multiple                  55        \n",
      "_________________________________________________________________\n",
      "dense_95 (Dense)             multiple                  6         \n",
      "=================================================================\n",
      "Total params: 1,735\n",
      "Trainable params: 1,735\n",
      "Non-trainable params: 0\n",
      "_________________________________________________________________\n"
     ]
    }
   ],
   "source": [
    "model.summary()"
   ]
  },
  {
   "cell_type": "code",
   "execution_count": 71,
   "metadata": {},
   "outputs": [
    {
     "name": "stdout",
     "output_type": "stream",
     "text": [
      "Failed to import pydot. You must install pydot and graphviz for `pydotprint` to work.\n"
     ]
    }
   ],
   "source": [
    "tf.keras.utils.plot_model(model, 'my_first_model_with_shape_info.png', show_shapes=True)"
   ]
  },
  {
   "cell_type": "code",
   "execution_count": null,
   "metadata": {},
   "outputs": [],
   "source": []
  },
  {
   "cell_type": "code",
   "execution_count": 85,
   "metadata": {
    "scrolled": false
   },
   "outputs": [
    {
     "data": {
      "text/plain": [
       "array([[-0.96364117],\n",
       "       [-1.6426647 ],\n",
       "       [ 1.081965  ],\n",
       "       [-0.94348913],\n",
       "       [-0.71744144],\n",
       "       [-1.4688659 ],\n",
       "       [-1.1339273 ],\n",
       "       [-0.18356097],\n",
       "       [-1.4863214 ],\n",
       "       [-0.8003325 ],\n",
       "       [-2.5039897 ],\n",
       "       [-0.9576309 ],\n",
       "       [ 0.52399   ],\n",
       "       [-3.569163  ],\n",
       "       [ 0.90911096],\n",
       "       [-1.2123802 ],\n",
       "       [-0.7872169 ],\n",
       "       [ 0.2128363 ],\n",
       "       [-2.8940768 ],\n",
       "       [-1.0718923 ],\n",
       "       [-1.6855106 ],\n",
       "       [-1.4724498 ],\n",
       "       [ 0.9372292 ],\n",
       "       [ 0.9117436 ],\n",
       "       [ 2.429154  ],\n",
       "       [-0.32508457],\n",
       "       [ 0.6774473 ],\n",
       "       [ 1.7375517 ],\n",
       "       [-1.2269146 ],\n",
       "       [ 0.81980544],\n",
       "       [-0.09768575],\n",
       "       [ 0.34791154],\n",
       "       [-3.1258676 ],\n",
       "       [-0.60415447],\n",
       "       [-0.07473001],\n",
       "       [-0.20052516],\n",
       "       [ 0.68495715],\n",
       "       [-0.98355573],\n",
       "       [-2.9032347 ],\n",
       "       [ 0.6942827 ],\n",
       "       [-0.06775202],\n",
       "       [ 1.5199096 ],\n",
       "       [ 0.89491266],\n",
       "       [-1.4950571 ],\n",
       "       [ 2.8856752 ],\n",
       "       [-0.05786572],\n",
       "       [-0.57368714],\n",
       "       [-2.577367  ],\n",
       "       [ 3.0631795 ],\n",
       "       [-0.8424683 ],\n",
       "       [-0.6899934 ],\n",
       "       [-0.00403904],\n",
       "       [ 0.13537815],\n",
       "       [-0.2921455 ],\n",
       "       [-0.93396986],\n",
       "       [-1.0286367 ],\n",
       "       [ 0.42639714],\n",
       "       [-0.98733026],\n",
       "       [-0.25885403],\n",
       "       [ 0.3819452 ],\n",
       "       [ 1.1676545 ],\n",
       "       [ 3.0089426 ],\n",
       "       [ 0.14975473],\n",
       "       [-0.8960299 ],\n",
       "       [-0.06761631],\n",
       "       [-1.0162148 ],\n",
       "       [ 0.10344619],\n",
       "       [-0.56566715],\n",
       "       [ 1.2214708 ],\n",
       "       [-0.28750888],\n",
       "       [-1.5638025 ],\n",
       "       [ 0.68586034],\n",
       "       [-0.77859443],\n",
       "       [ 0.77895206],\n",
       "       [-0.9400485 ],\n",
       "       [-0.39903784]], dtype=float32)"
      ]
     },
     "execution_count": 85,
     "metadata": {},
     "output_type": "execute_result"
    }
   ],
   "source": [
    "(model.predict(Xtest)-0.5)*2*MAX"
   ]
  },
  {
   "cell_type": "code",
   "execution_count": null,
   "metadata": {},
   "outputs": [],
   "source": []
  }
 ],
 "metadata": {
  "kernelspec": {
   "display_name": "Python 3",
   "language": "python",
   "name": "python3"
  },
  "language_info": {
   "codemirror_mode": {
    "name": "ipython",
    "version": 3
   },
   "file_extension": ".py",
   "mimetype": "text/x-python",
   "name": "python",
   "nbconvert_exporter": "python",
   "pygments_lexer": "ipython3",
   "version": "3.7.6"
  }
 },
 "nbformat": 4,
 "nbformat_minor": 4
}
