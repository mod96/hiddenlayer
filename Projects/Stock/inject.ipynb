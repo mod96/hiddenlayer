{
 "cells": [
  {
   "cell_type": "code",
   "execution_count": null,
   "metadata": {},
   "outputs": [],
   "source": [
    "# inject.py\n",
    "from bs4 import BeautifulSoup\n",
    "from mitmproxy import ctx\n",
    "\n",
    "# load in the javascript to inject\n",
    "with open('content.js', 'r') as f:\n",
    "    content_js = f.read()\n",
    "\n",
    "def response(flow):\n",
    "    # only process 200 responses of html content\n",
    "    if flow.response.headers['Content-Type'] != 'text/html':\n",
    "        return\n",
    "    if not flow.response.status_code == 200:\n",
    "        return\n",
    "\n",
    "    # inject the script tag\n",
    "    html = BeautifulSoup(flow.response.text, 'lxml')\n",
    "    container = html.head or html.body\n",
    "    if container:\n",
    "        script = html.new_tag('script', type='text/javascript')\n",
    "        script.string = content_js\n",
    "        container.insert(0, script)\n",
    "        flow.response.text = str(html)\n",
    "\n",
    "        ctx.log.info('Successfully injected the content.js script.')"
   ]
  }
 ],
 "metadata": {
  "kernelspec": {
   "display_name": "Python 3",
   "language": "python",
   "name": "python3"
  },
  "language_info": {
   "codemirror_mode": {
    "name": "ipython",
    "version": 3
   },
   "file_extension": ".py",
   "mimetype": "text/x-python",
   "name": "python",
   "nbconvert_exporter": "python",
   "pygments_lexer": "ipython3",
   "version": "3.7.6"
  }
 },
 "nbformat": 4,
 "nbformat_minor": 4
}
