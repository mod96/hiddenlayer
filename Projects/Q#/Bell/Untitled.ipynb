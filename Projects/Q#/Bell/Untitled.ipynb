{
 "cells": [
  {
   "cell_type": "code",
   "execution_count": 1,
   "metadata": {},
   "outputs": [
    {
     "name": "stdout",
     "output_type": "stream",
     "text": [
      "Preparing Q# environment...\n",
      "Init:0    0s=1000 1s=0   \n",
      "Init:1    0s=0    1s=1000\n"
     ]
    }
   ],
   "source": [
    "import qsharp\n",
    "\n",
    "from qsharp import Result\n",
    "from Quantum.Bell import TestBellState\n",
    "\n",
    "initials = (Result.Zero, Result.One)\n",
    "\n",
    "for i in initials:\n",
    "    res = TestBellState.simulate(count=1000, initial=i)\n",
    "    (num_zeros, num_ones) = res\n",
    "    print(f'Init:{i: <4} 0s={num_zeros: <4} 1s={num_ones: <4}')"
   ]
  },
  {
   "cell_type": "code",
   "execution_count": null,
   "metadata": {},
   "outputs": [],
   "source": []
  }
 ],
 "metadata": {
  "kernelspec": {
   "display_name": "Python 3",
   "language": "python",
   "name": "python3"
  },
  "language_info": {
   "codemirror_mode": {
    "name": "ipython",
    "version": 3
   },
   "file_extension": ".py",
   "mimetype": "text/x-python",
   "name": "python",
   "nbconvert_exporter": "python",
   "pygments_lexer": "ipython3",
   "version": "3.7.6"
  }
 },
 "nbformat": 4,
 "nbformat_minor": 4
}
