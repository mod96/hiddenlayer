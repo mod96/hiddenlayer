{
 "cells": [
  {
   "cell_type": "code",
   "execution_count": 4,
   "metadata": {},
   "outputs": [
    {
     "name": "stdout",
     "output_type": "stream",
     "text": [
      "Qbitread : 0s= 10000  1s= 0\n",
      "Qbitread : 0s= 5041  1s= 4959\n",
      "Qbitread : 0s= 4988  1s= 5012\n",
      "Qbitread : 0s= 10000  1s= 0\n"
     ]
    }
   ],
   "source": [
    "import qsharp\n",
    "from HGate import QBitRead, CoinFlip, DoubleCoinFlip, BlindDoubleCoinFlip\n",
    "\n",
    "count=10000\n",
    "\n",
    "res = QBitRead.simulate(count=count)\n",
    "(numZeros, numOnes) = res\n",
    "print(\"Qbitread : 0s=\",numZeros,\" 1s=\",numOnes)\n",
    "\n",
    "res = CoinFlip.simulate(count=count)\n",
    "(numZeros, numOnes) = res\n",
    "print(\"Qbitread : 0s=\",numZeros,\" 1s=\",numOnes)\n",
    "\n",
    "res = DoubleCoinFlip.simulate(count=count)\n",
    "(numZeros, numOnes) = res\n",
    "print(\"Qbitread : 0s=\",numZeros,\" 1s=\",numOnes)\n",
    "\n",
    "res = BlindDoubleCoinFlip.simulate(count=count)\n",
    "(numZeros, numOnes) = res\n",
    "print(\"Qbitread : 0s=\",numZeros,\" 1s=\",numOnes)"
   ]
  },
  {
   "cell_type": "code",
   "execution_count": null,
   "metadata": {},
   "outputs": [],
   "source": []
  }
 ],
 "metadata": {
  "kernelspec": {
   "display_name": "Python 3",
   "language": "python",
   "name": "python3"
  }
 },
 "nbformat": 4,
 "nbformat_minor": 4
}
