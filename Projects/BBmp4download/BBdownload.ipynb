{
 "cells": [
  {
   "cell_type": "markdown",
   "metadata": {},
   "source": [
    "미기"
   ]
  },
  {
   "cell_type": "code",
   "execution_count": 1,
   "metadata": {},
   "outputs": [],
   "source": [
    "A='https://d1b5wfhwav7hwn.cloudfront.net/content/b457134a-256e-4b2a-855a-5d262a0106b9/20/04/06/06/b457134a-256e-4b2a-855a-5d262a0106b9_1_200406T063822633Z.mp4?Expires=1586545472&Signature=Jr51wbME-OB4y76LdjD63x8acG7tirVCsTld0rO-yeVDAYFKOmHEe3jS6vQeohlQijoFrYOJBuoe5cWsu704EsAFtW8kMHmWluLpYeNMOpuK5TIzl5~HK9tuVJJyOp~ea3x4AILifPBnVNMPBWVm3nfqWtPAR2Gc1NsJGimEwVHWqeeH7NteJTRnRYJ37DyG~Kulr9ax1sBAQ9FhjGP-aguaHJT7r83H1-L-J6oreQHgMSAzIsxRn1F31RXBuv51SWY1Y8B-KQfCyFvKHCEZwUIo--kRA7ZOFhh8854fIm~YYumrr4qwtuwARBUdd1B6XKuOvE-DwSZhcW6flbzbJw__&Key-Pair-Id=APKAIOBDBIMXUOQOBYVA'\n",
    "B='https://d1b5wfhwav7hwn.cloudfront.net/content/332cf6c8-85a8-49e4-9605-b17218bc395b/20/04/06/06/332cf6c8-85a8-49e4-9605-b17218bc395b_1_200406T061802501Z.mp4?Expires=1586545473&Signature=TZeTNiUjRBGRf~rS9PDQdpRzMz6jwT50NIgsVAjYMfagnbx~LRRHAazmmCXQ2SBTbetBVg3A2d6-PNphy1WAIgZLpWvSE-e7PNTNoxJXljyXJWY0h7q1lbaiJOPZ0RqlKw-NhBUJhjcmJyODhdiZYGQ-YMC3IsVA90rHYsFIxaobvwWrKvuphrvk52hdQdKbeTmZyYWKC-ZXTHk48zu9rhlUmbEJdnOU9~e926rViFOxFzZyTbNilPrJ948XA9d54YqLGhkOo4EawwiKOEr6Lne9PiknRA5YUomrAiSzlanvb0xgxPL3x4SQE2W230y0deK-PdhU20WGtcYXTDKO7A__&Key-Pair-Id=APKAIOBDBIMXUOQOBYVA'\n",
    "C='https://d1b5wfhwav7hwn.cloudfront.net/content/4f028907-7fe9-47fe-90a6-dc7e8ad87731/20/04/07/06/4f028907-7fe9-47fe-90a6-dc7e8ad87731_1_200407T063334481Z.mp4?Expires=1586545473&Signature=Ulc4VnsvzY75qxzhAhhk6heS9mXJ5X70k1p54v9G~knO82GhAqYnVmrM3gfffBydcbbwzvu-vM~FTB6-ax6ju~V8GCp5sSkrGndVaTFyZP0pgL1FAX~VRORXENYv1MnTOcEjKTYvkL7Wvrbs7ppCH4rV9CmcAXNq12W6M5pVlgfJ95KJeBMqREkURms~vsXMRFXkOxXPYwBDsdSanro~lXjHFXt9axWe5ldfPMvFlgGaWpymMeytKqSz-67Br4e97KAgZQq9rxYQ103M7jF1cbUTlHm0JvJliYLs27SEJkUTVtthzHcG3niu4QjPFwfXcXoKEk8i6NFl~bOkb-BULA__&Key-Pair-Id=APKAIOBDBIMXUOQOBYVA'\n",
    "D='https://d1b5wfhwav7hwn.cloudfront.net/content/435abb3a-be98-4dc3-92d1-8a0fa603120a/20/04/07/06/435abb3a-be98-4dc3-92d1-8a0fa603120a_1_200407T063403782Z.mp4?Expires=1586545473&Signature=Dx~Ij6J20HfB4J4Qk2EFo7G~7gfPD-3mXMUaW7lVW9Dk-P0C6o3jFP~VSKvpbwzIGoopdY~Kmp0s-CawhrSEzmooFgiIqkrJRI8q1OdvAuGKyf-PTKE8~M6LoR7lwOKaY29~t-TkoJqsvlsDe8AxY4-gVop~yLVN~y5YqVyY3P3ApNf6NGjF5Cyw1asXAwyH6-4sHTOtQl2kH4gZiv2guDwenmu0hGk0UDGN9~395ICSAkwkFYTj7Wl-uC3x04R1LaKsr2DOxamwPblX0j0LBsM475-Sy7T9Kc2Fsl8SxfsGdx7UuWNQ5q-s2A4sBOMy8dbFQSs6v6NX-Z4mR-fa1A__&Key-Pair-Id=APKAIOBDBIMXUOQOBYVA'\n",
    "E='https://d1b5wfhwav7hwn.cloudfront.net/content/8b581536-afab-43b9-abda-e52f019585aa/20/04/07/06/8b581536-afab-43b9-abda-e52f019585aa_1_200407T063428393Z.mp4?Expires=1586545477&Signature=DTBGANRkF5E3s~yEZDg8fyVykg6vsmF9B8P48efuPW4TTHkHhdA~Urb~Hd5XROcmeL6Ca12ldph3bvpv22PoWL64tsxpS3ls5KIH9tyon9cpkGPFRJcA3kCIEV9iPdAyiBUSgu0oI5B0YcU1lEb0rB2emBw4E9xaqmy5eVjW5eTSYtIKv30IcK1nmvWid1YgY4Wg2K4h6oG8pm2Y8Fk61g8-mELJn4n4IMX~N6eJdrTKb-3tsmoSIZTzPaiq618xw7nwn2ay1UitCaBDNpuwgMV0JNmcIBe2HevugayidMzZvzPs59HEL-mO7MZrizZJv-M67ImiXpEceleOYNzmHw__&Key-Pair-Id=APKAIOBDBIMXUOQOBYVA'\n",
    "\n",
    "bunch=[A,B,C,D,E]"
   ]
  },
  {
   "cell_type": "code",
   "execution_count": 2,
   "metadata": {},
   "outputs": [],
   "source": [
    "import requests\n",
    "i=1;\n",
    "for url in bunch:\n",
    "    r = requests.get(url, allow_redirects=True)\n",
    "    open('num'+str(i)+'.mp4', 'wb').write(r.content)\n",
    "    i=i+1"
   ]
  },
  {
   "cell_type": "code",
   "execution_count": 1,
   "metadata": {},
   "outputs": [],
   "source": [
    "A='https://d1b5wfhwav7hwn.cloudfront.net/content/e5db54aa-5969-4351-82dc-9135bd925171/20/04/13/08/e5db54aa-5969-4351-82dc-9135bd925171_1_200413T084043122Z.mp4?Expires=1587603181&Signature=PZDDTTyacAKYbT-NZqcebWKtj1dAzBZXMiBWlp4KWdCBvhbDGXS8kfEL06HLfzqSrl89JZTjY-u0Dt6Sua6Mp9HZB~htVRTKKNIlmFB2LzUBLfagH15l5jz2WVh5cMmuT~~EH4yWGdxEjsctftCrvHYdXjp55pCUum4yt3OoFh1P2Tf2a9K~jnxRsFh2ygMHCIqf1xQkoGSUbLzBTeF21etLryEuAivJNtRSXcKU4N8b46oVjZz~VI1iOO4ae2fnnYE7NM6o1eGItRSXhXendPRestXUYo7LbmiBLMcd67hhWGASElRuvGLkbzQl6yEZtK55gJYosp53ZFEcffefIA__&Key-Pair-Id=APKAIOBDBIMXUOQOBYVA'\n",
    "B='https://d1b5wfhwav7hwn.cloudfront.net/content/66a33305-e0c0-40cc-9247-3d6c683b49d1/20/04/13/10/66a33305-e0c0-40cc-9247-3d6c683b49d1_1_200413T105843111Z.mp4?Expires=1587603181&Signature=XgydblcMgvhMTwPxas7RRmQU-7IcU-eVRJULDFMl3YUzvFe1L4T2XNhSp-Z~yEqgW~gc2jYGr4BSFflZKppN9Ma2yU0VtziMRLWc6JrB7WAhiBS~USxKAN1zDKe8a0LohoHT2mj9pSiY1zlYGwJCNiSrhu5XLg~VMEoyjaKNKE7RXM1P25OzSsz1UeY1OCQAPr31169VT5voUCnHQqD6eYKmkvVe6ugfuN~Xvk76QJbGEpbbAkFILMlHgt~p6Cg0kkh6to8CWPvDmpeHahN44byfufobi6GyfakYN4BW3zG2LFrkHLUEWxAGFiLJxuYoHD376fTQwJp7UDi09a-0Yg__&Key-Pair-Id=APKAIOBDBIMXUOQOBYVA'\n",
    "C='https://d1b5wfhwav7hwn.cloudfront.net/content/141b3d44-0e7d-43b0-be48-4307e41aeece/20/04/13/10/141b3d44-0e7d-43b0-be48-4307e41aeece_1_200413T105913215Z.mp4?Expires=1587603186&Signature=M~oRT2Uhi5rA2TAcdJfr8-RKAqbcGwx9H-k17R43-L~HHtlSJQ17Ku0EiYYqnRriW9r9e08eCPnF0d3d~xGPY0XtEty6J3IcsOVK9JY5ulUjN8TTctRwHpSEb7Am3QVQUu5Q9mdaM~cZLc2gR7s68T~n5CnA-FhmQcVQeYZeE3vIffFDARxLbYzMAg3Yiv4fXvUkwIzRstYcyMYZN-YbD6uznNtSYys4zFlVj1-peJnMhUPB63KQOt4i4gGJGwdGmfsv2ISKjcuSSV6gqfkYC9VBYVSad7Rm9tXWYNaWw7DKG6v1-9RJvcZ29aKTac8Ss110ZpPeoshsk~YpYcSg9Q__&Key-Pair-Id=APKAIOBDBIMXUOQOBYVA'\n",
    "D='https://d1b5wfhwav7hwn.cloudfront.net/content/5bd11304-bea4-4d8c-971b-97d63604bb5a/20/04/13/10/5bd11304-bea4-4d8c-971b-97d63604bb5a_1_200413T105939386Z.mp4?Expires=1587603191&Signature=CERERPS0yLIrnhD995zNypTlLig6KmeZQ0JZDU3WhrIKx8eX7JaoEsqfrZK2-nd6S~FuN9MOQW2MASyDQPw570u8~gW3SADY69J9IrhYjwGcOASzltt~NrC6rCRYEdOngf6cyGL-kos2uNEcj8lwAuwSGKbqMgC4J2kW8RZKtZJRDKSESBFskDIoy2uoEUD7p70cEXfIacKg~ZGkTWIdyfq1U7on0D5T28geWDibhZG8e60N8oKNvOTxnO54~8ciGe8sPF-ACfM4an-PVkal1vJvuHIxwUwZOFPhlLyiijXveWZsPo7zuWIn8mNpPIjK0h3oa6RPxkhR0lG2kf6FLA__&Key-Pair-Id=APKAIOBDBIMXUOQOBYVA'\n",
    "E='https://d1b5wfhwav7hwn.cloudfront.net/content/0867dfed-d248-4881-9647-b41eb1e9782f/20/04/14/07/0867dfed-d248-4881-9647-b41eb1e9782f_1_200414T073212964Z.mp4?Expires=1587603195&Signature=OJXYHD6EjN5mEgLKCxY-RXSN84xG6Q~3y60MKTPXTr3UGnx~ZP8jquoBcbTXKPKG7Bx0I1aQK74UCgiPLGGleLhiyBAUz2xMzyDx90PP4J2iHRUCAaYmVUf3zN9TtFDTwGSNUgtN3YL9iKGcuvqyL8OmZZNcd~PwiMo8pigrXWV~iCxLjtpkzaxXPcRvsX1FIqkaGCj6Vc048WartwtFv2QrhlB3DrGJQpVNGiCUfEQK8drv0xjpGA46EwMWeCWuOihoDkLuwf1e5V8cc1n0Kb-0i8SZykgiyvOrG2gSrNNeOdjRspHYuMovhzc25xgQD0IQrtnAtjMGLslUQ-BKbw__&Key-Pair-Id=APKAIOBDBIMXUOQOBYVA'\n",
    "F='https://d1b5wfhwav7hwn.cloudfront.net/content/8f473eb6-60ba-4da7-acd4-853073c3ee0b/20/04/14/07/8f473eb6-60ba-4da7-acd4-853073c3ee0b_1_200414T073243083Z.mp4?Expires=1587603199&Signature=L8ESjV69H6JTbnA4wqOrBLTg7FEtgVo-kwUNenlnz4uvbgJKElqdnKT4ouvsRuG0DKhdUuK1wcW-n9yqVp1-MlMUGdGWRo4iMWzm17n6JO3Sj~-c4SWvC2cjYwevUxU9eoTFsLKeZVJ7M7D121Xafq~pKBj-22~71GbOr2QIj0JTJUXWhyDz-IBAZPO48jmlR~j48T4NJx2IhU3PgcqNjkGySrrZSn2frCvCxdYi2pevS-poMFtPbwMC0SfuRyFWLJxGq1twW9pc7I3d4df01nvtVLI7FEv0SensNexAhKxs97XRNiKWawHuZZ2YETEVxbF5skecS6sFLMupHs3gFA__&Key-Pair-Id=APKAIOBDBIMXUOQOBYVA'\n",
    "G='https://d1b5wfhwav7hwn.cloudfront.net/content/fca991b1-c5ec-48cc-9985-4e28f20816a7/20/04/14/07/fca991b1-c5ec-48cc-9985-4e28f20816a7_1_200414T073313863Z.mp4?Expires=1587603201&Signature=R0ICC36CztpK0T1pRTvD7lF9os2J9hDoI7TcUWAhUoMy5rNrGQEnbVIkvdqP7W3I9xr7ZfC05Sne57LQ72uqMAAi7UbE1tl~VMIeTi2I2bY9OH9IcYtQ9xpSwDZiH~vosjOCKd4BcsNxsOSXtrg98DA5zNkYvygGKqEco4zrlGWOlqIiyX1imrZIp0GutJtaAr46p7F0zOUa6nEJl0hh9AICCKHKNVhs~gtfbmh2SigPxUYeiZMvFhhsreT0okVjT1v9K1yFFbjOaui3Jhw4LmOcvVnr0diD-Cg9kAm~tk3y1ZqbqcwX2Tp1TLPo5Dj1v3C8JrwIzjqh3TF9EER-8A__&Key-Pair-Id=APKAIOBDBIMXUOQOBYVA'\n",
    "bunch=[A,B,C,D,E,F,G] #04.22.미기\n",
    "import requests\n",
    "i=1;\n",
    "for url in bunch:\n",
    "    r = requests.get(url, allow_redirects=True)\n",
    "    open('num'+str(i)+'.mp4', 'wb').write(r.content)\n",
    "    i=i+1"
   ]
  },
  {
   "cell_type": "code",
   "execution_count": 1,
   "metadata": {},
   "outputs": [],
   "source": [
    "A='https://d1b5wfhwav7hwn.cloudfront.net/content/6f4478d2-cfce-4f14-88bf-1807f08c7135/20/04/20/08/6f4478d2-cfce-4f14-88bf-1807f08c7135_1_200420T083519229Z.mp4?Expires=1588287035&Signature=QCVoGoQ8Dmq3ar-jt47hLQI9LTqxqALravbl8jwvAvNjjVbQNOhps8cPqImHlmXNrfUIxiaKlH-TsdauhfWSqRsA7AJtDsFNeukeVfY36-dkDMiHy9KvhLP8Es8D5pM5-~xiPtAYKQLdc3asuH59owM-kWTdNAKv8Cjk-6aPRtr6P6xpfisQukDee---VWdOp~aBXMBcP-BmcVDbj8kplu2YS5THEkxOlZmSk~ovPdj45DPiJrLHokhMMAo-jYkiHOmmrrqszfuYKQLcwq~uM48MgBPDoEFOQYTOM6Se-l5r~i-nLVew5Oad47gvwhIOard0OQKN0AlY8DWG8WCkmw__&Key-Pair-Id=APKAIOBDBIMXUOQOBYVA'\n",
    "B='https://d1b5wfhwav7hwn.cloudfront.net/content/566a21d8-34b9-4d37-8ff1-bc8c7e2d562f/20/04/20/08/566a21d8-34b9-4d37-8ff1-bc8c7e2d562f_1_200420T083550192Z.mp4?Expires=1588287039&Signature=OeVaapdwotggtOxChmjSqUIUdytSEgn2hfu9OUPlecf77xRaavURRS74xeJLCHTTDPJh1TsqDvWl68qhYqCCy4Nyi993RpiCpkgn8B6P4kr8eb9tbX0MmIBR3TVGJeRFOWEWX6GjaJh6jrwsKDPLULN0pXcst4~zmBilc1lNftSd3wPoOnhoYS4qCuS0spnrd7j~I7JM0-UfQNba2RBiCrREVR5on6z-yEDeYJ3rtO7fKTqtZ2gswjhVB-kEF74joSYRN4d6kaD2Bgf4g-CFaBA1IKhmBdOGHbptwQuE1qTqnKpSqoE9PDH6s0KzBARzWsOACdmSZfAwSKGDqK3rIQ__&Key-Pair-Id=APKAIOBDBIMXUOQOBYVA'\n",
    "C='https://d1b5wfhwav7hwn.cloudfront.net/content/18048fa1-9ea6-469c-b2d1-ca4f1593529a/20/04/20/08/18048fa1-9ea6-469c-b2d1-ca4f1593529a_1_200420T085952487Z.mp4?Expires=1588287042&Signature=NvguBG-WFPZGx9strcQTH3b-Ip6Y~RpN-fE9CLuoceZDBUV68piyicpBPsqpNxnqj0NI-N~-j4oEFB9djVZyxX-Pq-EybtBBqJd7Mq~I~DelHAxnUcy6rVzdse0MmWs~YJhelL7U1z1z9VlKMlO0R~AZex3NEgk25xts8lIUBdZmaRfTjbxA-4hDum8hzOaxJkZZhoC0y5idyyw68Wv49der6wjrI93WDOTS3kWVmKThqc56d8xKocMGre2lmUBBWthDv8EPR3C6Z3XfCzTIuaIq-wYrvVKcpuK8zBvq~FljB-4GsnEZfQ10yrtGPn74kcslKQX2WQENLwXGyNivTQ__&Key-Pair-Id=APKAIOBDBIMXUOQOBYVA'\n",
    "D='https://d1b5wfhwav7hwn.cloudfront.net/content/3ba8733c-7efa-495a-b450-481e392cd7d7/20/04/20/10/3ba8733c-7efa-495a-b450-481e392cd7d7_1_200420T102831031Z.mp4?Expires=1588287048&Signature=HX4wMdGOR9IfQwJe1aouGknGEiA~f5A8QZnZ74baLy~O-W4ccN-PsSPS-mSZku0iMRRfPWcVtmXQnopzoJzIQXqoooHHheSD~T9FElLTvcTLNwf2jaotz~QWmjJzrylAXj3fB69cNqrrZbQXrQOSYhFLVkqMLv4YxIuHr0LsTZySZhCpmwXfVyvsBUzJMSLySIj3i8WWmFvGkTeMEhcs9vvEYA4a94fLNrja36Zv2GJS4MVTAbvCemoTyqVqxNQyAjdwWW6w1-wPrQxW1CBj2NJWOiUUl~~WoxHQRvvWaSzQXdpOTYnByXTm0lxHlGOTn0IFPbw-OIdpG167tFpxGw__&Key-Pair-Id=APKAIOBDBIMXUOQOBYVA'\n",
    "E='https://d1b5wfhwav7hwn.cloudfront.net/content/654e34ed-9df6-4b5e-88d1-df475002a3c1/20/04/21/10/654e34ed-9df6-4b5e-88d1-df475002a3c1_1_200421T104412263Z.mp4?Expires=1588287051&Signature=cKQMpemP9uDSwgJDkAzdCeK-jD1CreIKwvueEUumUFCroANjJR6uPK5zdGFNHUeA4JRHw~iMuhHyAS34KeTT1ceZhMu1157yo26p7BEceJhxK9f3PXysbLWW5E7~YMP1opKwhOQdd5QpPL2kuWuWoBzSOgPwAaVqzk7vOcYENPbA8-VOCbp9ITrrDlBnZhCSCAHePs-4RoQFM9sySLcuPyviqrLd5~Q13LiRayo8WWm5W4WjmMRPL0pTAgG9rPLv5B9XzDhRIsOP5BWIt2wNLhXpzbRgTQPJS6IvgqoqQkHQkwRcpgL-tPfug4eBmP2CAXGyRUYTvSi8dIfWrdGJHQ__&Key-Pair-Id=APKAIOBDBIMXUOQOBYVA'\n",
    "F='https://d1b5wfhwav7hwn.cloudfront.net/content/16eaef55-2c97-4827-9676-3fbf846d4fef/20/04/21/10/16eaef55-2c97-4827-9676-3fbf846d4fef_1_200421T104447175Z.mp4?Expires=1588287053&Signature=TaNUHE88BY8Cl39pU8U1RH95fbnBY42teDO1zr6kjtL42e81WRpazD8zzJR32LBnVXtpD6jVnGIxOoLYmXa5WRxaXLXCfy-PMPdiHYMXWA-5k002uuCywHhbk0PIecDDVHyprFLMDRx0KfERsm-ezIfuedrUND35nxZPxlLjS4Cq2DvKd~uEBvxcvbC6T53pXH5cmColmckFC7cMNJn8IGAmdC3bUt1stJPdpkWSRc-tdqW29a7ak-nwMAVbHQL~In0xlbR2kC8TOM2HrcHjpxCRwOqJxIEOfctQwCj1ek365owBAlle5QrOaTNGx17lipm480xa00~Xizu5dnc0xQ__&Key-Pair-Id=APKAIOBDBIMXUOQOBYVA'\n",
    "G='https://d1b5wfhwav7hwn.cloudfront.net/content/f8bcbfb7-fe72-475e-a782-f4f1a41858b0/20/04/21/08/f8bcbfb7-fe72-475e-a782-f4f1a41858b0_1_200421T084007465Z.mp4?Expires=1588287056&Signature=f16StovsI1bETf4Gva6m2sMih~EDY5lZiTAkAWJFL-JkqL71-XYzY3c76BoPerp3mZrAOHA5niyFrGeYFfO5t3AECWh-f39BdvIC98iYr42X2yKjOAYg08JsK3FBKB2udoiLmwB746tHBokGoQWr2~rnTZ~D5mEYwsqJFlILGRgTQS6TL5~L8Lo02KqC2il1ZmlS8fyKguNnCK2WWQgS6ASpsCeWeJoPGxQxMI7DoFaFBVpKTzWoxilPBUtKXUy0k8qBDXX4ZcmqE74xMs0xKy0jiLXrZdkzEnAUKj1gPrAsqYU~cgH3Yn65pC7dr9ZLI1b7NmNzr7ZPglj7zOrwiw__&Key-Pair-Id=APKAIOBDBIMXUOQOBYVA'\n",
    "bunch=[A,B,C,D,E,F,G] #04.30.미기\n",
    "import requests\n",
    "i=1;\n",
    "for url in bunch:\n",
    "    r = requests.get(url, allow_redirects=True)\n",
    "    open('num'+str(i)+'.mp4', 'wb').write(r.content)\n",
    "    i=i+1"
   ]
  },
  {
   "cell_type": "code",
   "execution_count": 1,
   "metadata": {},
   "outputs": [],
   "source": [
    "A='https://d1b5wfhwav7hwn.cloudfront.net/content/39e0a0be-ae0b-4d27-b559-bb12b8bcdc42/20/04/27/10/39e0a0be-ae0b-4d27-b559-bb12b8bcdc42_1_200427T105407883Z.mp4?Expires=1588798695&Signature=cKYKSq4JKxmNOV8vPnYEpl7XLAsFJ0wT3dVck4uNoMVO6FQufHPVFsUmhT8lTYUZKo1DEyODMaXIYIjPsFV-wjAstSjJ4I-is3fmdZwAKe9HTkKU~TXnGxMMo336QOCebzytiY-hK4ac5Xn2259JmvM9MT54hL7w3gAuTvCYgtZT3AcCUQm6PypxTFgXuEQaOmXDDmbthkf2lbxqWMyf0uckmRzr7CyhUG9a1otfPcsPuj9Xb1Jf5Br0Pxm4ni-Z~1VGBvQA0dALxj1ZqrijZGK~Z-fhkSCVTNY6mUBaITHOXAwwUd9fa9sn3e0j14B1JDRNLhJHirqFCMlD0Fmxag__&Key-Pair-Id=APKAIOBDBIMXUOQOBYVA'\n",
    "B='https://d1b5wfhwav7hwn.cloudfront.net/content/4d18e60f-7251-44f5-b6a3-684b05347bc3/20/04/27/10/4d18e60f-7251-44f5-b6a3-684b05347bc3_1_200427T105450573Z.mp4?Expires=1588798798&Signature=Q~oJmKZKcSB3LSAv8N55u3Vw1yxDcqN7tS1qUrvjEb9GkQgJPOZn7u2aPiH1tH1O8tfdZ9NjQsrkCasNQ~2O0SkMzxGvMDzQBmD2sY0c9jlsz6YbaSN36PB52BwmzvY4OCs9GofiY2QnWEVqH-aSvZCVB87Uk0DVVpPDOfO2veRxFHFURhd~kb8PklBGlTkOlRvdZ-PcXETnppzafO7JSrKIn7N5I705RIcFh9~rElNi5MKm4nb9WjUgTgHlE9DCEn5R~7ldE5svAjHDPU-XgkD9QSed7cV-yjGWNmGrGjF4z0CkZVdQ9fF-xdHT2awLL1gcNS37w7MDz4YsWO1~yQ__&Key-Pair-Id=APKAIOBDBIMXUOQOBYVA'\n",
    "C='https://d1b5wfhwav7hwn.cloudfront.net/content/1f8d6376-d16e-43bd-bd2a-918d9b199e0b/20/04/27/10/1f8d6376-d16e-43bd-bd2a-918d9b199e0b_1_200427T105543536Z.mp4?Expires=1588798800&Signature=cDy8RiZDCe-GMKCrJafj6uu9AXqSZBxMWX8vD5d82SH4zoYOBWcLit5IfPdK~GqFHeZYcisaATXtb9Unt870AbBWVUYBoIaTuKC0A9YzbRRtJw4ONM6eBLmkbWReG-xZNAU8Oj~RPZ-3AlK-0QGgqVEViA4ncOfkpxgdAq818aWqpNZLd~jR6NatoSr~1zZKAcMxz7eYnT2W2IGo~y7NSKU25-qErIs8GjzvdvQAfW03~wz9j0~9fwhUenDlj0NdXgyDy-5IaAPUeRoE43t5g~OpmmoL6wXAwyMG5Dh~QYah7Zo6I8cyxnn~otWJhmtX-~a6eYAvEr26z8viWTnyfQ__&Key-Pair-Id=APKAIOBDBIMXUOQOBYVA'\n",
    "D='https://d1b5wfhwav7hwn.cloudfront.net/content/6d15c484-ac08-445f-b68d-7f1675ef81cb/20/05/04/05/6d15c484-ac08-445f-b68d-7f1675ef81cb_1_200504T050851925Z.mp4?Expires=1588798803&Signature=PupPNHxvCrCozOBE5vXicZt~3R9NtJzoOf4D~pJJ4u84FVZdEVgJNATeKJ1JpJYHiSLDY68bSJqyMzpOR9pxRvN~fC6E~FCydZT2UCqX-Ea8aeZwZPdoe7u5TiLPnxbR7QR-Hx7agsvwT3UGIgdX9LkFwFkJmHcj02SmQx3qZo8shLV2Ih~CJf-U5MMBniSmgNucB9YE9ZiwlmGYyd7gwRo95j2~7lmYCdB2A3gyMloT5lr9f4OSMxVrAV0IwqjBSgE3cKo96cs3mPVVNjXfMw73sxdEvvkGxGuGY6hE4-3XIdtaPeqx5znAPfLl9IDb0jHPZUjC1dq~k54s7Kg4Eg__&Key-Pair-Id=APKAIOBDBIMXUOQOBYVA'\n",
    "E='https://d1b5wfhwav7hwn.cloudfront.net/content/05df4324-94f8-4a3a-8530-29ccc070f3a8/20/05/04/05/05df4324-94f8-4a3a-8530-29ccc070f3a8_1_200504T050908628Z.mp4?Expires=1588798804&Signature=LSR7EjERGLk-eFRSInLmbOACucixW2~Ka-q4DrZE4HigVUYyIuZiSYEkeRTN8GV3etY0dxHj~MvXxMbONrR8zSKCsSj5Xkx3ZG1Zx9-mA1aQ42NxUx41SBpg48Mt-Jh6W~59Dxdo~hcZX-gmZvDI-Ykj-K8bVBi3nBKeSi5HNopc7Brge7Vw94rrgW3oc-tbuugLEN5cpn0~D6aZJrRVB65FRrNnPIWKM6SqTVJPv5KfSEtjiCuDqwmrZ85yujeQEAXL5UorLqE8QcdvKXVXzTYh47zplzB3bBNaqjRxU9Xz-pFxE0TCiNwHAWG3FBNnlydOO-42B6~XZvQYb5M7AQ__&Key-Pair-Id=APKAIOBDBIMXUOQOBYVA'\n",
    "F='https://d1b5wfhwav7hwn.cloudfront.net/content/5a9a003c-bf80-4142-acba-cf4709d6c7b6/20/05/04/05/5a9a003c-bf80-4142-acba-cf4709d6c7b6_1_200504T050647165Z.mp4?Expires=1588798806&Signature=CguxrdMHq2Iei2zXOU02ualbHgE47ADLT-8NNlld3~ujPbUZxqndWqt96QyUFc-2jbyBGi~o3LxCEbqrk7q1TW9fc08vYGoo29wxrauzYmr9XfdFgeRHdYrh-KXkI3xUS~8Y2QwoQbQ8luHD2w1aHMA4SsPy0qgrlvR6W2Ri44J0NwNd8Fjg4Fc9xwF6QDn5uz~tzDE6zTLKvwdhfJD5Qoo~gnwUIcSxamR9HCJewjJOke23U3x9K56AN2kZt~YUIeH8PT4lOCUPCvwmVU3RRPylQmL578hb2pVHrrV2rtM2zxpDWt7iGvWwEfboGFYuAzDMMhkhxgH0MkCWeCohXQ__&Key-Pair-Id=APKAIOBDBIMXUOQOBYVA'\n",
    "bunch=[A,B,C,D,E,F] #05.06.미기\n",
    "import requests\n",
    "i=1;\n",
    "for url in bunch:\n",
    "    r = requests.get(url, allow_redirects=True)\n",
    "    open('num'+str(i)+'.mp4', 'wb').write(r.content)\n",
    "    i=i+1"
   ]
  },
  {
   "cell_type": "code",
   "execution_count": 1,
   "metadata": {},
   "outputs": [],
   "source": [
    "A='https://d1b5wfhwav7hwn.cloudfront.net/content/4c8df9e3-a8e3-4b4e-a760-9c52cebe03cc/20/05/07/06/4c8df9e3-a8e3-4b4e-a760-9c52cebe03cc_1_200507T063927645Z.mp4?Expires=1589465090&Signature=aETnNO6IrVcQA5GOo-xv59qtFgTyEn21rlvvLUsp5dvO321GulHemEovmyMq5rjOyMGb5dacNVFstTKP6iogXZDyHqUslrKYJxWuzz~bZ6P6c4PRwxoI~9e9RHMWmpctokmZGV94wrzWnFBzHfecHHD0GzfP70pREtO1bqG~GoRwwaYGPgzMntWFS9znyNB01qVJsbuOUgIr6JCRrX54NimyviXmETedUv4rNV4qEBPQewcNoGvippo2X7dNiGXJs0TCh4K5tJKB7LUo51aLnyL2KCnu6gcW3DMJrfXaze1Jmwm9uDZxSXdi5nQXSSI5hnA~pNA-mk-7iUgWGBvv7g__&Key-Pair-Id=APKAIOBDBIMXUOQOBYVA'\n",
    "B='https://d1b5wfhwav7hwn.cloudfront.net/content/8f448704-b2a4-4370-b7e7-4eb8a49064bb/20/05/07/06/8f448704-b2a4-4370-b7e7-4eb8a49064bb_1_200507T063950825Z.mp4?Expires=1589465090&Signature=NDqU6plgbOJU1xKTYPsUsD59SPuHFyuGGQJycOamY7ePY8G-5AGaRWc-cad4Bw6HlyhKXZ~HPToaP~QWc8YWX6-UL6o9uQ7awVEfjub5WyLv~wtkdZAi6SR6HezCTka2JzYSw7iFytf3nUvj9BBscBRCjLbDKEul7NSCGj71HHT~xIjTzCg~TxOhy3kixCJoch4d5uw6JhYMjk36KNGSxtRdBmLKn4j61du27yr44R~0yC3UOCS~aNPgvoiR1XvFYTPXdN2B0PAksdauz3rrqcmGWaNf04pJBbJjNltHjFaGlZFEAAWN2YC2dBppywYTFyQ7AUm3tm2tiELcQP5nSA__&Key-Pair-Id=APKAIOBDBIMXUOQOBYVA'\n",
    "C='https://d1b5wfhwav7hwn.cloudfront.net/content/6b3cab8a-a136-4ece-ac51-ec6d939f08e8/20/05/10/08/6b3cab8a-a136-4ece-ac51-ec6d939f08e8_1_200510T085836189Z.mp4?Expires=1589465095&Signature=XUBVu9X~DeGYPuMGkRao0To3RMOrunlFOv-qQYgKs2ms1lMtxsvRpgo3Xb9DJwgiaDmZMkWdz3T5VDTk3RkuGjsIBfLUOKuk4UJc38wnuDb1PwUr8LaqhYjjJS~gOGeWbQAaGxhyxfr7Lp8pPpPxMMI3JByURga70468upqru41~dr8N3ZV254fEey2GzTlxFgNotgRt3WspDvlD2j34FKAsszGhxwyL2~gSGevWnKJbPRhJQ0TNGiYPQ3OaXnqXKt7LFc6ersmwTTxNLOFet4d~NiFRE9gQ~f0Mn5CbUi8OHMCIvXIU64fxk4qO7zQj5k2nSYGthEixsp9N1JXPyw__&Key-Pair-Id=APKAIOBDBIMXUOQOBYVA'\n",
    "D='https://d1b5wfhwav7hwn.cloudfront.net/content/43d53b8e-d2fe-4ebe-9ee0-d0a7853096d2/20/05/12/10/43d53b8e-d2fe-4ebe-9ee0-d0a7853096d2_1_200512T100859877Z.mp4?Expires=1589465097&Signature=gTtUfrcouL29ZHOxvK2AJvnyAGJNvwWRvxC67GS0cM~MMxr6IEZQISUtjBagMzymmIO3DbELcCGN4QKz1MVJgccqRATEJJSQagNXOLjQGmvRAWjM0MMqz0h5euBdh2yd6CXTMOSIrH9MG~ksHJnH56Bl7V-ez5uVmk0qulnoTTlSNMUvWrjfSSElMaDgBXIkBgkee71jSI0FyWijz-xDIT8w5cGfUFahebUk0qRuJer~ESDBZvXT3oWaBZcsymQQZmlsZqSMM2TAlF2IxxX~xdpewteQfGqsBwY088tYqKQI06QROgHJXWBfrttbSUihHcsyz-IlBfmBDIbUPwzBGQ__&Key-Pair-Id=APKAIOBDBIMXUOQOBYVA'\n",
    "E='https://d1b5wfhwav7hwn.cloudfront.net/content/cceaf900-e905-4a53-9222-0d3596f6ea9b/20/05/12/10/cceaf900-e905-4a53-9222-0d3596f6ea9b_1_200512T100937408Z.mp4?Expires=1589465099&Signature=VN5rBlH9BgQHLSd5CZqlqgAIgbkYTX6prAjJeSi2nKvWB8yijQN6gL01iASlwBSajW~u-WZpHN7bi8THgvA-fnR1F8NmcrrN5p0rMBWdNmpS6yPAPVBGW6YSgi4QgNHYu3EEOcs7Tv5AkDpSqieeOrJAtGzx5FL~YHv4FHdNA7ITIrrD7rQR8XZ2~CE06i12uSNaRijQGEo-caPTm0RE50txa79SzZEuOc0kTFi7sYx3pncSNEuJOp~Ei3npjqMI6cJYDzd2kceKPoeCtFZkitgIw52fTfgK1INScXSPxg1sEKtrwvYzPFfhuD~J65Op1vKtpC-l8YzXGwGRZXMOjg__&Key-Pair-Id=APKAIOBDBIMXUOQOBYVA'\n",
    "F='https://d1b5wfhwav7hwn.cloudfront.net/content/43968571-7ffa-41a0-b90f-c247d60d48a8/20/05/11/08/43968571-7ffa-41a0-b90f-c247d60d48a8_1_200511T081153083Z.mp4?Expires=1589465098&Signature=O3vJbOpwGXjJPl0Lt3cwLFIw4iSPF6KrNamtA5RMtt4abUVO-cadZjqIzy0cZh2qW5fXSnPcwO~a3Fzo7i~i5C1UJ~oOJAKKe01NUCvkC5PWe8geaKW9M9YcltN1FK2xB6cn4~WhhT-WZzi3oIrxMpnBFx4btKdYFTfdXn1NVtssybrpw9xX5YzOB6KUGX9FxqbZTEybcY3oLTfT5mvKHFZyug0EJ9qZDk4MvpjX0DEJ5MRk2z78szbJ94yQ~oZrd-3AdeBIhPwdEEsQLXd4C~spNN0IcJnsP5pNnemfM6MTCW5qTcntzFTLB8hTRgnAYNPKnUe9uPdlhGmo0ek9yQ__&Key-Pair-Id=APKAIOBDBIMXUOQOBYVA'\n",
    "#05.13 미기\n",
    "bunch=[A,B,C,D,E,F] \n",
    "import requests\n",
    "i=1;\n",
    "for url in bunch:\n",
    "    r = requests.get(url, allow_redirects=True)\n",
    "    open('num'+str(i)+'.mp4', 'wb').write(r.content)\n",
    "    i=i+1"
   ]
  },
  {
   "cell_type": "code",
   "execution_count": 1,
   "metadata": {},
   "outputs": [],
   "source": [
    "A='https://d1b5wfhwav7hwn.cloudfront.net/content/0dc5ba25-92ee-403d-a44d-214db04008c1/20/05/12/10/0dc5ba25-92ee-403d-a44d-214db04008c1_1_200512T100444066Z.mp4?Expires=1590258146&Signature=LiBQ5X5W~1bp1XLmiIFfO5Bu-6ECvTP0iJxpmJ9pqyvdSixNSwpdvvHCfg-W~hzRmz8BOIWoAsdilcxtHK3VzCNmJEt8zty8lIOtgc9930UgqU2XEp7NlIodiz~Z4Eo6cC3O9H7obIcBFzpYCxq2e4w-cZ4Gi87myd~cTx3fRQvn-JR2zIAs5Susbt3wJOH43OUCreObletpeId73sz8sTuR7pLrgpFcTnm0eTel-mWnZ9Z39jAX9ykx8JaA5l2OWpicrk951nPFPjJnhCHej4GJf~iMHJAUhm5Ywf8~nzq3qAXnHj2NUrnzaC7Vee5FQsUZ4QQXPFJK4RmaodWeyA__&Key-Pair-Id=APKAIOBDBIMXUOQOBYVA'\n",
    "B='https://d1b5wfhwav7hwn.cloudfront.net/content/6e9d1142-2e5d-4113-a987-2cac237bb9b6/20/05/18/09/6e9d1142-2e5d-4113-a987-2cac237bb9b6_1_200518T095857507Z.mp4?Expires=1590258147&Signature=Epm~8guV7ZTx2RwQiOqFXMPC~eYJ~dikLFbSGFslfCVEK67mebeAXIo~JEV16F7d50CMW3XQjTbuFTaOOQD5-RkwTTe6Jx6NCtHOvXL4qoG-tTD6Rm2hPYhhQ8jhYyOqj68X2Uuu-AFdUs~Y~7krs1mTQRth0TT2MrtWoP8lvCVPOpaN9YHhZZxA9H9ENstDXiQI65h4oPqZ-PZGAO7dvmGAwnFZM3wHAsmi2yg9GvA7JC2hw1TRk6gQVFrpiwhSRClgnS8me89ki6wP1nOhXOqw2~KlUUOlkli8pKm2mJS38MEYImXh-HKebsoUOO5THsGLFcVAQd15goc3xfJjpA__&Key-Pair-Id=APKAIOBDBIMXUOQOBYVA'\n",
    "C='https://d1b5wfhwav7hwn.cloudfront.net/content/c9b1e374-7d16-4a7f-a6e4-56543718df3e/20/05/18/09/c9b1e374-7d16-4a7f-a6e4-56543718df3e_1_200518T095931233Z.mp4?Expires=1590258147&Signature=UEyyKi7AYnBJj523PhA6156L8deD73ifmTW81Zd8xFXPHsBSV4sZS4PrWPBfeNBwmx67XbmLJy0vaQYk9t5d7Axc~DCg-2s1lAuCDKmhtstC8DCdYNPRaKDNXCi50fLuGZiKgi-10aVOaLQjyZYVDP5Cl9XW5dnWAxYXGhGxaUpCuoBP~O0K3eLvAuBgNgVPieyjUs39sulzf0FUqDfFeIxcjuRnaWgcvlEBJgz-JmKAPhBjDutZ0J207cwavx8ipF82P5S649psl2zN5SX-cy5FWerGvcX6sVXpefG54-Z~Mbi6CYXbSOnjU42GLADeoH3fqN780bZbVdnFFTqj8Q__&Key-Pair-Id=APKAIOBDBIMXUOQOBYVA'\n",
    "D='https://d1b5wfhwav7hwn.cloudfront.net/content/71e1a2bd-7836-4072-b630-7c550cdad69c/20/05/19/09/71e1a2bd-7836-4072-b630-7c550cdad69c_1_200519T090201035Z.mp4?Expires=1590258148&Signature=bf5tit~FgXP1iCfDhMZgTiFRKR6Z7WH6gy2bYSlzHWli0srJcB-F5mwFkwjTRtpwMNhV-8foFJZfzfmVCJ7Gsxo18eok74LJ2mgccE64XUbvS5xZF-hVvwSr1WO0Ad-mmhv6kK5Ql9MceEKfRolQ9veNe20QZRdCC1iXaRKYG0bA48wAy0XOtxivESrYWohhBVfSaZTQUUAI3x~3Ce8Gir0RvnJqV0PfehH-hp8wzuIFfyyt7NFhnm8Emt35CXQsGBqKfHr8jk4E~jX6z2cokxqSJ3W7kYiM6MAM6OHu6ZRrtLYrmaEhNTHQqQ-Ltb6FJuhIBn8Ju9IlbiE8ehQjIg__&Key-Pair-Id=APKAIOBDBIMXUOQOBYVA'\n",
    "E='https://d1b5wfhwav7hwn.cloudfront.net/content/54861c33-45af-42e1-8cad-54db5835d316/20/05/19/09/54861c33-45af-42e1-8cad-54db5835d316_1_200519T090229068Z.mp4?Expires=1590258150&Signature=SDLPtXZQzB01zAdJjICRqdJUYgjie-nPJOVMdRwFPrjBxkso0-tQObwn6NtCUH-hs~~YiBwoI6b2vcva1N3RplXMHeAIOeFYoAZIsycAb7Dwz3EI6IVqU-2I94Kbj6HfYW3RuaQ7cRrsUGq8-lBJsDj8gp0SkC~S22xQxUXeaQj5GG51slHZR1mvkBPBWeTJa9R07~C56zpjzbegMvxD8hoOimUavAWWI8OEeRGkKLgGicZDRGXp0JHIQV2k7TNXBvMTBJm3Xnajv2SbHviGBBxDo8J~nMMI3Ass3XGyPwfDbp9UJ1y~wqRi5qeRh92aijtd3HN3kbKH6acs9Iw3cg__&Key-Pair-Id=APKAIOBDBIMXUOQOBYVA'\n",
    "F='https://d1b5wfhwav7hwn.cloudfront.net/content/a667953d-d9af-4d06-8875-0b367fbf4661/20/05/19/09/a667953d-d9af-4d06-8875-0b367fbf4661_1_200519T090256906Z.mp4?Expires=1590258153&Signature=W210WmicKq~LtUUoydkSqjrji139FgsDOD6Q26clFcB-lsyYNstqr2lLHnRQbRwFt6YPr2dXc4Anchacf5EEH5g38e1TdnZ-iSy-2~EcVRvnaOsiOsx2SOgIQGA16hLcY4C2RIp7lVPWZjE8DxLmu1jSOzSjudAHzFco-Dp~nQ2QJWqbiLLqi~A75rEaolM~cvQsScXBinzQRZjo-~on5MghJXR39~cRmJpEedLSaYJwzbiqNOzb2Fv4Tv48ESnC1L6cyQXAnjANEVlCob9c32cxRnVI7GJq2775ggYtpWxkh6yjZi-8cjPiAndMK5e-ApMYgqL1oHUbo20BlixcxQ__&Key-Pair-Id=APKAIOBDBIMXUOQOBYVA'\n",
    "#05.20 미기\n",
    "bunch=[A,B,C,D,E,F] \n",
    "import requests\n",
    "i=1;\n",
    "for url in bunch:\n",
    "    r = requests.get(url, allow_redirects=True)\n",
    "    open('num'+str(i)+'.mp4', 'wb').write(r.content)\n",
    "    i=i+1"
   ]
  },
  {
   "cell_type": "code",
   "execution_count": 1,
   "metadata": {},
   "outputs": [],
   "source": [
    "A='https://d1b5wfhwav7hwn.cloudfront.net/content/65df96b0-0790-4d5c-8a85-60b71a86bbba/20/05/25/10/65df96b0-0790-4d5c-8a85-60b71a86bbba_1_200525T103317097Z.mp4?Expires=1590809270&Signature=eKBX-CGCud5p8MyxJ2V~0MFlcHPTFBCtZFlj6aUG~PstncHnkGhtvucFHsQUrEE36thXqh4EMKfIbxogSebSG0QMloExUyboXqaEtZEz60LmJHh04A7J~g92i7KARKPYxIZj2GEeI7StxGQTKDuDaKmLcP2IDSnv6crXPPDs7fF2PJYGvqKTwkizfGzui6vxQ-Pf9RGf514-8TQkQaARv6t55oTAnf3rfFIYuQCQl--eLhPlB50RlDZle9dAhbiVRrCC8xstuEPpFh84sviV~F0bGRJCeFHGuCm~9XxZHl0cQpLlrTcNJaTSKZRZQJlnwJyuSP8iR3QsYuOY1MNPYQ__&Key-Pair-Id=APKAIOBDBIMXUOQOBYVA'\n",
    "B='https://d1b5wfhwav7hwn.cloudfront.net/content/3d2a2ac3-1d82-4eb6-8582-923ae7b7fa66/20/05/25/10/3d2a2ac3-1d82-4eb6-8582-923ae7b7fa66_1_200525T103344589Z.mp4?Expires=1590809270&Signature=Q1HsBp7bITkH9l0mP8KnJ1Bh-QKKnIoENtn0~FN4tIJYDBzwgab9KSCgc~4MRGZWFIDqcYIrZndcsa0AwcOCWHjvT8~fu6AT1UxrI11mAfLH9U2v6goyUFCiEsmcXbiXYbdnQQ~68dZFxwoMU4vyJoOn9963Ugfw9e-ahWlrpHty1rF3YzzTOurxipoREFlq-BJgxt-l8gad8xzjGLiwD3GUZ1qrvA8kAyTWuWfbnJ7uiIK6qk064OqBw~VnqeN99d9qH9qFxOrhm8QvmKP~58u95GuCq3e0GGu7m0y4DBZNCfS4b3lUo4d9Xz9TBQqxwPNvxOtO0v5nOEwqCgs0rA__&Key-Pair-Id=APKAIOBDBIMXUOQOBYVA'\n",
    "C='https://d1b5wfhwav7hwn.cloudfront.net/content/e2e918f8-d6e9-49f4-b04c-73b62c3261d0/20/05/25/10/e2e918f8-d6e9-49f4-b04c-73b62c3261d0_1_200525T103412051Z.mp4?Expires=1590809270&Signature=bpSmCoyF34G8p5Sjy32nHbfvhTknSIWX9~O87USEzHpwv51Jy2Qu1Cm40rNsgY~fertKfQAKh2hURQlkR06J31EJQMjRZwIBVT~l9k7h573iNvRQchZOeYwiDB8b5OrXMFi8xa7MMepFiaBu9Io4DJ2AGfpxTgPdUqgIwKXsZEqwcLpW7ej5Og-sTnKibG1Cwj-0RdHXij8XL14fZJWaR7XgrLra0R6Jly8dbbO--4B4Yn1RiIzUE0XNctSQMPgPtgx3TnespCn~xyED-3vvWXjRZGP5B-l3XahF-KYrAAp1OgAA8ZWfeViS9crRmX2y28oXspWgEhxmhLnzQ0MXIQ__&Key-Pair-Id=APKAIOBDBIMXUOQOBYVA'\n",
    "D='https://d1b5wfhwav7hwn.cloudfront.net/content/f7d1716d-4940-4e5f-bc41-764271b40596/20/05/26/09/f7d1716d-4940-4e5f-bc41-764271b40596_1_200526T094808728Z.mp4?Expires=1590809301&Signature=BIe7ZQkOBQVyjyJGRaX9j0lTumbiUYFUcmmPjT7l0s438i9YZ3jfAMy0BqEajl-jw~G8wInvhROcD6z9-ZSV-WTvPbfkSZvxB7kYLrCkdlrKwGJYXJk3Vsmci4Mwi3pN83idhC--q6bKGc20sCOJ4AYd~O-pxHefhsIio36QGVpYrnoa52V4Uo~IDaMO1ZbAhG0eXgZqOmzu7kj95pkB5dWFZrLuFZPTteSr7Otrb6h9zCo4tzW~WzhHJlV2q3axh6TGQVXuoraCzC0OM54kNNGG7dnWFruh5wlt1WTrdLI-Q7bCscoEeaQwjD3o-GSsiu~M7HXrg~4BrPBPE8BnXw__&Key-Pair-Id=APKAIOBDBIMXUOQOBYVA'\n",
    "E='https://d1b5wfhwav7hwn.cloudfront.net/content/6a7c2ca4-e64d-4b1e-8d99-89631aa07ef1/20/05/26/09/6a7c2ca4-e64d-4b1e-8d99-89631aa07ef1_1_200526T094835654Z.mp4?Expires=1590809302&Signature=SN5It2PeQhwsgEav~DbHH6hIMPLHN7Vgm6s8UACmhgC81gf2KfCZUZdtUMm9NqVr4VWT6U9N~Bxxx3mEqkbK1uzWUMfeqwGy5qPSrctuxdWiMTqAyYo1E3AIJUpx1IVtW4O7AaEJzPAIauGReE4ddPXXVxrtiA7jpHlLxli6d4mUdvApePiNJqIOQyZgGF-TVTilA4rZveKUEaf4j82J1QWrkXl0cLErfYuuUbIQL1S5CChMaURBEyk2LndrwaXDh-gx8v1idAXlPeXbI7ezBbPxRsMKkRAnC4~f8Ea9ZKb2qgnMx9F9kDwFfdTG5yzjYWFPBNEY5Q7imQpoRMDjXg__&Key-Pair-Id=APKAIOBDBIMXUOQOBYVA'\n",
    "#05.27 미기\n",
    "bunch=[A,B,C,D,E] \n",
    "import requests\n",
    "i=1;\n",
    "for url in bunch:\n",
    "    r = requests.get(url, allow_redirects=True)\n",
    "    open('num'+str(i)+'.mp4', 'wb').write(r.content)\n",
    "    i=i+1"
   ]
  },
  {
   "cell_type": "code",
   "execution_count": null,
   "metadata": {},
   "outputs": [],
   "source": [
    "A='https://d1b5wfhwav7hwn.cloudfront.net/content/d4773c22-729a-4b30-9563-712bcca1c41c/20/06/01/07/d4773c22-729a-4b30-9563-712bcca1c41c_1_200601T071710206Z.mp4?Expires=1591418430&Signature=CWNlk3VzKTEuzrKD7xmoazp5bOf44nBhnM~ITXzyokX-Ni6nBfJMeupPtZBjK42ub-8bAyAp4xpzXDQlJru2iGjj36ZzuCcQaBBPYxuB7TI5PpdBA-y1ZPRlyV34FrC0kzdO~qJpo1MGYG0OUAuPL-3wqVHmAQy6u6gYjm1uOueoL5YhST1vI9ymqFYETTJxw96XaalSbTDgNxieQ1dhM9mvJPQOVWDbkyHR5Piq0P7uprvWth83P7ls0dIN1sufKZtIzR7PfQCNe9lT5DA6VI3hLmDetpLREFjIQu6YK6ZwEvYQMFeXupgLbevFaBrIdb0TpKzDEX3nZXGdlZj7xA__&Key-Pair-Id=APKAIOBDBIMXUOQOBYVA'\n",
    "B='https://d1b5wfhwav7hwn.cloudfront.net/content/64ff0a75-5984-47f9-ab2f-6ecd94c31374/20/06/01/07/64ff0a75-5984-47f9-ab2f-6ecd94c31374_1_200601T071738900Z.mp4?Expires=1591418436&Signature=HckAhObByJCrtou~fc3Fc-kG4LXiZW5Izm6LWDsk-~vuhVyVEtXLk9m9Ld70lF8~57sX51xgF0Nfc2qVQA~zyZsjL4-3Yw9ukauZIr9FWWuX2wGOgdtxrI~Z1X2QsSjaHnuOptT3U2TymZP95GFNZ23FRrY3m2knq1cCKmJ88LGlqMRzGm5wkTXzWcTmKcXOXnFdHg9wK1p602yqpcFq44Ly6Uh6S99gM-kPtKYOADlVpHEcHgYmlgmVACYZGKRkSCyDhmULKjZRGYSBecVFB-IWycBn73nosm31yK~2qXHrlx86Nvz8u7H~uj676inxO2IzCVE-ITX~xotbAYqosw__&Key-Pair-Id=APKAIOBDBIMXUOQOBYVA'\n",
    "C='https://d1b5wfhwav7hwn.cloudfront.net/content/64ff0a75-5984-47f9-ab2f-6ecd94c31374/20/06/01/07/64ff0a75-5984-47f9-ab2f-6ecd94c31374_1_200601T071738900Z.mp4?Expires=1591418436&Signature=HckAhObByJCrtou~fc3Fc-kG4LXiZW5Izm6LWDsk-~vuhVyVEtXLk9m9Ld70lF8~57sX51xgF0Nfc2qVQA~zyZsjL4-3Yw9ukauZIr9FWWuX2wGOgdtxrI~Z1X2QsSjaHnuOptT3U2TymZP95GFNZ23FRrY3m2knq1cCKmJ88LGlqMRzGm5wkTXzWcTmKcXOXnFdHg9wK1p602yqpcFq44Ly6Uh6S99gM-kPtKYOADlVpHEcHgYmlgmVACYZGKRkSCyDhmULKjZRGYSBecVFB-IWycBn73nosm31yK~2qXHrlx86Nvz8u7H~uj676inxO2IzCVE-ITX~xotbAYqosw__&Key-Pair-Id=APKAIOBDBIMXUOQOBYVA'\n",
    "D='https://d1b5wfhwav7hwn.cloudfront.net/content/45f56b4e-3145-4390-b134-0afa2f72938c/20/06/02/08/45f56b4e-3145-4390-b134-0afa2f72938c_1_200602T083520136Z.mp4?Expires=1591418442&Signature=Bj5eymJ1X3J~rg0G3JZ7VlFMQVLsETIke5iBLOLbbGFS37bAH5v68OwYqRGH0rCRJKF3rKnAgCmdkrIRXJfirNNQRLh8nFrfQ-A914fcIoMnnRReG80wnunNixQQtXtwlPcl~NwBzO9PdgbB5Dyb6JhWX-LlzC4Ho57QiPXvCTgnJqKJ1~jNf1r9AX9JCOZMR-qY~yNyBVz1Tq~Npxb7ayxDv-qGPb42DhElJl3TlR1NWYo6gnDHxXRVBV7yWGF0lsONhIdAvRHgSOpYhOxKkKWE3UU5FMmOrYFgxR5oFvFnQ1qO55JjoYjDKScn8MrFkOoFzQ0Q5XUXQoXPM8umZg__&Key-Pair-Id=APKAIOBDBIMXUOQOBYVA'\n",
    "E='https://d1b5wfhwav7hwn.cloudfront.net/content/46a50bf0-7ae9-4c1b-b722-c226ad7c5ff0/20/06/02/08/46a50bf0-7ae9-4c1b-b722-c226ad7c5ff0_1_200602T083551829Z.mp4?Expires=1591418443&Signature=WWGtbViyY~Oe8EJKz~nrvwi6ai2v5bV~eqy3laeCyKY5P4RUYfc8646mJJT5TU4lPVco47IM52Ewoa9PMovwl9y~o1XY5wU4QTdCkjBLq6Q8MpgqHoGr50uZQqvCrHk0lyL53jkyt0tymtC~kj7WHCSmTlss7hmea0CK8K7MtjU3V-vgmh5M6osMNXPBtu0m811phGvzEKEQwsxtH21ReeHWIT5Ig-aY5Rb~yPHK2KxPBB--U5syxGlO2EQzCcQQG1WxaCxDqQTKv90~U4hkxlcp1jxXKNe7jNc7dK4iwkttQB97vlqOfzfj5FrvVmdjkWq7OGrEQECYWHeOaIK2Ew__&Key-Pair-Id=APKAIOBDBIMXUOQOBYVA'\n",
    "#06.03 미기\n",
    "bunch=[A,B,C,D,E] \n",
    "import requests\n",
    "i=1;\n",
    "for url in bunch:\n",
    "    r = requests.get(url, allow_redirects=True)\n",
    "    open('num'+str(i)+'.mp4', 'wb').write(r.content)\n",
    "    i=i+1"
   ]
  },
  {
   "cell_type": "markdown",
   "metadata": {},
   "source": [
    "경개론"
   ]
  },
  {
   "cell_type": "code",
   "execution_count": 3,
   "metadata": {},
   "outputs": [],
   "source": [
    "A='https://korea.commonscdn.com/contents5/kruniv1001/5e8fc6d446066/contents/media_files/mobile/ssmovie.mp4'\n",
    "B='https://korea.commonscdn.com/contents5/kruniv1001/5e8fc524aa503/contents/media_files/mobile/ssmovie.mp4'\n",
    "C='https://korea.commonscdn.com/contents5/kruniv1001/5e8ed39096c2b/contents/media_files/mobile/ssmovie.mp4'\n",
    "D='https://korea.commonscdn.com/contents5/kruniv1001/5e8ed1df3dcaf/contents/media_files/mobile/ssmovie.mp4'\n",
    "bunch=[A,B,C,D]\n",
    "import requests\n",
    "i=1;\n",
    "for url in bunch:\n",
    "    r = requests.get(url, allow_redirects=True)\n",
    "    open('num'+str(i)+'.mp4', 'wb').write(r.content)\n",
    "    i=i+1"
   ]
  },
  {
   "cell_type": "code",
   "execution_count": 1,
   "metadata": {},
   "outputs": [],
   "source": [
    "#5주차\n",
    "A='https://korea.commonscdn.com/contents5/kruniv1001/5e9698a07bc8/contents/media_files/mobile/ssmovie.mp4'\n",
    "B='https://korea.commonscdn.com/contents5/kruniv1001/5e969e496c2f/contents/media_files/mobile/ssmovie.mp4'\n",
    "C='https://korea.commonscdn.com/contents5/kruniv1001/5e96936af884e/contents/media_files/mobile/ssmovie.mp4'\n",
    "D='https://korea.commonscdn.com/contents5/kruniv1001/5e96931d93f5/contents/media_files/mobile/ssmovie.mp4'\n",
    "bunch=[A,B,C,D]\n",
    "import requests\n",
    "i=1;\n",
    "for url in bunch:\n",
    "    r = requests.get(url, allow_redirects=True)\n",
    "    open('num'+str(i)+'.mp4', 'wb').write(r.content)\n",
    "    i=i+1"
   ]
  },
  {
   "cell_type": "code",
   "execution_count": 1,
   "metadata": {},
   "outputs": [],
   "source": [
    "#6주차\n",
    "A='https://korea.commonscdn.com/contents5/kruniv1001/5e9f9cd7d13/contents/media_files/mobile/ssmovie.mp4'\n",
    "B='https://korea.commonscdn.com/contents5/kruniv1001/5e9f96a5f282d/contents/media_files/mobile/ssmovie.mp4'\n",
    "C='https://korea.commonscdn.com/contents5/kruniv1001/5e9fa275210ba/contents/media_files/mobile/ssmovie.mp4'\n",
    "D='https://korea.commonscdn.com/contents5/kruniv1001/5e9fad79b290/contents/media_files/mobile/ssmovie.mp4'\n",
    "bunch=[A,B,C,D]\n",
    "import requests\n",
    "i=1;\n",
    "for url in bunch:\n",
    "    r = requests.get(url, allow_redirects=True)\n",
    "    open('num'+str(i)+'.mp4', 'wb').write(r.content)\n",
    "    i=i+1"
   ]
  },
  {
   "cell_type": "code",
   "execution_count": 2,
   "metadata": {},
   "outputs": [],
   "source": [
    "A='https://korea.commonscdn.com/contents5/kruniv1001/5e96936af884e/contents/media_files/mobile/ssmovie.mp4'\n",
    "bunch=[A]\n",
    "import requests\n",
    "i=1;\n",
    "for url in bunch:\n",
    "    r = requests.get(url, allow_redirects=True)\n",
    "    open('num'+str(i)+'.mp4', 'wb').write(r.content)\n",
    "    i=i+1"
   ]
  },
  {
   "cell_type": "code",
   "execution_count": 1,
   "metadata": {},
   "outputs": [],
   "source": [
    "A='https://korea.commonscdn.com/contents5/kruniv1001/5ea8f7dad451/contents/media_files/mobile/ssmovie.mp4'\n",
    "B='https://korea.commonscdn.com/contents5/kruniv1001/5ea8f765d631a/contents/media_files/mobile/ssmovie.mp4'\n",
    "C='https://korea.commonscdn.com/contents5/kruniv1001/5ea9033cc862a/contents/media_files/mobile/ssmovie.mp4'\n",
    "D='https://korea.commonscdn.com/contents5/kruniv1001/5ea9076270c5/contents/media_files/mobile/ssmovie.mp4'\n",
    "bunch=[A,B,C,D] #05.01경개론\n",
    "import requests\n",
    "i=1;\n",
    "for url in bunch:\n",
    "    r = requests.get(url, allow_redirects=True)\n",
    "    open('num'+str(i)+'.mp4', 'wb').write(r.content)\n",
    "    i=i+1"
   ]
  },
  {
   "cell_type": "code",
   "execution_count": 1,
   "metadata": {},
   "outputs": [],
   "source": [
    "A='https://korea.commonscdn.com/contents5/kruniv1001/5eb363d3e2cb/contents/media_files/mobile/ssmovie.mp4'\n",
    "B='https://korea.commonscdn.com/contents5/kruniv1001/5eb361317a9d4/contents/media_files/mobile/ssmovie.mp4'\n",
    "C='https://korea.commonscdn.com/contents5/kruniv1001/5eb36a335b5e/contents/media_files/mobile/ssmovie.mp4'\n",
    "D='https://korea.commonscdn.com/contents5/kruniv1001/5eb3619cdb3e1/contents/media_files/mobile/ssmovie.mp4'\n",
    "bunch=[A,B,C,D] #05.08경개론\n",
    "import requests\n",
    "i=1;\n",
    "for url in bunch:\n",
    "    r = requests.get(url, allow_redirects=True)\n",
    "    open('num'+str(i)+'.mp4', 'wb').write(r.content)\n",
    "    i=i+1"
   ]
  },
  {
   "cell_type": "code",
   "execution_count": 1,
   "metadata": {},
   "outputs": [],
   "source": [
    "A='https://korea.commonscdn.com/contents6/kruniv1001/5ebce53a25638/contents/media_files/mobile/ssmovie.mp4'\n",
    "B='https://korea.commonscdn.com/contents6/kruniv1001/5ebce58a31050/contents/media_files/mobile/ssmovie.mp4'\n",
    "C='https://korea.commonscdn.com/contents6/kruniv1001/5ebce3beb5947/contents/media_files/mobile/ssmovie.mp4'\n",
    "D='https://korea.commonscdn.com/contents6/kruniv1001/5ebce473f7ab7/contents/media_files/mobile/ssmovie.mp4'\n",
    "bunch=[A,B,C,D] #05.15경개론\n",
    "import requests\n",
    "i=1;\n",
    "for url in bunch:\n",
    "    r = requests.get(url, allow_redirects=True)\n",
    "    open('num'+str(i)+'.mp4', 'wb').write(r.content)\n",
    "    i=i+1"
   ]
  },
  {
   "cell_type": "code",
   "execution_count": null,
   "metadata": {},
   "outputs": [],
   "source": [
    "A='https://korea.commonscdn.com/contents6/kruniv1001/5ebce53a25638/contents/media_files/mobile/ssmovie.mp4'\n",
    "B='https://korea.commonscdn.com/contents6/kruniv1001/5ebce58a31050/contents/media_files/mobile/ssmovie.mp4'\n",
    "C='https://korea.commonscdn.com/contents6/kruniv1001/5ebce3beb5947/contents/media_files/mobile/ssmovie.mp4'\n",
    "D='https://korea.commonscdn.com/contents6/kruniv1001/5ebce473f7ab7/contents/media_files/mobile/ssmovie.mp4'\n",
    "bunch=[A,B,C,D] #05.15경개론\n",
    "import requests\n",
    "i=1;\n",
    "for url in bunch:\n",
    "    r = requests.get(url, allow_redirects=True)\n",
    "    open('num'+str(i)+'.mp4', 'wb').write(r.content)\n",
    "    i=i+1"
   ]
  },
  {
   "cell_type": "code",
   "execution_count": 2,
   "metadata": {},
   "outputs": [],
   "source": [
    "A='https://korea.commonscdn.com/contents6/kruniv1001/5ec4d7e82ad5f/contents/media_files/mobile/ssmovie.mp4'\n",
    "B='https://korea.commonscdn.com/contents6/kruniv1001/5ec4d10bff927/contents/media_files/mobile/ssmovie.mp4'\n",
    "C='https://korea.commonscdn.com/contents6/kruniv1001/5ec4e53798b7b/contents/media_files/mobile/ssmovie.mp4'\n",
    "D='https://korea.commonscdn.com/contents6/kruniv1001/5ec4e796002db/contents/media_files/mobile/ssmovie.mp4'\n",
    "E='https://korea.commonscdn.com/contents6/kruniv1001/5ec4e448258ff/contents/media_files/mobile/ssmovie.mp4'\n",
    "bunch=[A,B,C,D,E] #05.22경개론\n",
    "import requests\n",
    "i=1;\n",
    "for url in bunch:\n",
    "    r = requests.get(url, allow_redirects=True)\n",
    "    open('num'+str(i)+'.mp4', 'wb').write(r.content)\n",
    "    i=i+1"
   ]
  },
  {
   "cell_type": "code",
   "execution_count": 2,
   "metadata": {},
   "outputs": [],
   "source": [
    "A='https://korea.commonscdn.com/contents6/kruniv1001/5ecf518d872b/contents/media_files/mobile/ssmovie.mp4'\n",
    "B='https://korea.commonscdn.com/contents6/kruniv1001/5ecf57d940acc/contents/media_files/mobile/ssmovie.mp4'\n",
    "C='https://korea.commonscdn.com/contents6/kruniv1001/5ecf5709b02d7/contents/media_files/mobile/ssmovie.mp4'\n",
    "bunch=[A,B,C] #05.29경개론\n",
    "import requests\n",
    "i=1;\n",
    "for url in bunch:\n",
    "    r = requests.get(url, allow_redirects=True)\n",
    "    open('num'+str(i)+'.mp4', 'wb').write(r.content)\n",
    "    i=i+1"
   ]
  },
  {
   "cell_type": "code",
   "execution_count": 1,
   "metadata": {},
   "outputs": [],
   "source": [
    "A='https://korea.commonscdn.com/contents6/kruniv1001/5ed8a177cc441/contents/media_files/mobile/ssmovie.mp4'\n",
    "B='https://korea.commonscdn.com/contents6/kruniv1001/5ed8a523f6eac/contents/media_files/mobile/ssmovie.mp4'\n",
    "C='https://korea.commonscdn.com/contents6/kruniv1001/5ed8a4397882b/contents/media_files/mobile/ssmovie.mp4'\n",
    "bunch=[A,B,C] #06.05경개론\n",
    "import requests\n",
    "i=1;\n",
    "for url in bunch:\n",
    "    r = requests.get(url, allow_redirects=True)\n",
    "    open('num'+str(i)+'.mp4', 'wb').write(r.content)\n",
    "    i=i+1"
   ]
  },
  {
   "cell_type": "code",
   "execution_count": 1,
   "metadata": {},
   "outputs": [],
   "source": [
    "A='https://korea.commonscdn.com/contents6/kruniv1001/5ee205892b16/contents/media_files/mobile/ssmovie.mp4'\n",
    "B='https://korea.commonscdn.com/contents6/kruniv1001/5ee209f62180/contents/media_files/mobile/ssmovie.mp4'\n",
    "C='https://korea.commonscdn.com/contents6/kruniv1001/5ee204012a5ea/contents/media_files/mobile/ssmovie.mp4'\n",
    "D='https://korea.commonscdn.com/contents6/kruniv1001/5ee205d4c8fde/contents/media_files/mobile/ssmovie.mp4'\n",
    "\n",
    "bunch=[A,B,C,D] #06.12경개론\n",
    "import requests\n",
    "i=1;\n",
    "for url in bunch:\n",
    "    r = requests.get(url, allow_redirects=True)\n",
    "    open('num'+str(i)+'.mp4', 'wb').write(r.content)\n",
    "    i=i+1"
   ]
  },
  {
   "cell_type": "markdown",
   "metadata": {},
   "source": [
    "짤파밍"
   ]
  },
  {
   "cell_type": "code",
   "execution_count": 1,
   "metadata": {},
   "outputs": [],
   "source": [
    "A='https://korea.commonscdn.com/contents4/kruniv1001/5e7ef47a37012/contents/media_files/main_(41256928-1dd2-4a94-8cfc-78c7dbf8de52).mp4'\n",
    "bunch=[A]\n",
    "import requests\n",
    "i=1;\n",
    "for url in bunch:\n",
    "    r = requests.get(url, allow_redirects=True)\n",
    "    open('num'+str(i)+'.mp4', 'wb').write(r.content)\n",
    "    i=i+1"
   ]
  },
  {
   "cell_type": "code",
   "execution_count": 1,
   "metadata": {},
   "outputs": [],
   "source": [
    "A='https://korea.commonscdn.com/contents4/kruniv1001/5e8193312edb2/contents/media_files/main_(6b2dc42a-8f08-44c9-9e37-1725a1a3fed8).mp4'\n",
    "bunch=[A]\n",
    "import requests\n",
    "i=1;\n",
    "for url in bunch:\n",
    "    r = requests.get(url, allow_redirects=True)\n",
    "    open('num'+str(i)+'.mp4', 'wb').write(r.content)\n",
    "    i=i+1"
   ]
  },
  {
   "cell_type": "code",
   "execution_count": 1,
   "metadata": {},
   "outputs": [],
   "source": [
    "A='https://korea.commonscdn.com/contents5/kruniv1001/5e8c9357f6955/contents/media_files/main_(1e78d249-3ea0-410d-9cd2-4ad7f9d34dfe).mp4'\n",
    "#0408기음작\n",
    "bunch=[A]\n",
    "import requests\n",
    "i=1;\n",
    "for url in bunch:\n",
    "    r = requests.get(url, allow_redirects=True)\n",
    "    open('num'+str(i)+'.mp4', 'wb').write(r.content)\n",
    "    i=i+1"
   ]
  },
  {
   "cell_type": "code",
   "execution_count": 1,
   "metadata": {},
   "outputs": [],
   "source": [
    "A='https://korea.commonscdn.com/contents5/kruniv1001/5e8dc24f62d49/contents/media_files/main_(e9021612-40b6-4491-8490-73b330f11333).mp4'\n",
    "#0413기음작\n",
    "bunch=[A]\n",
    "import requests\n",
    "i=1;\n",
    "for url in bunch:\n",
    "    r = requests.get(url, allow_redirects=True)\n",
    "    open('num'+str(i)+'.mp4', 'wb').write(r.content)\n",
    "    i=i+1"
   ]
  },
  {
   "cell_type": "code",
   "execution_count": 1,
   "metadata": {},
   "outputs": [],
   "source": [
    "A='https://korea.commonscdn.com/contents5/kruniv1001/5e9a53183c923/contents/media_files/main_(1c0f30f6-d81d-4a55-b480-bf973d654889).mp4'\n",
    "#0420기음작\n",
    "bunch=[A]\n",
    "import requests\n",
    "i=1;\n",
    "for url in bunch:\n",
    "    r = requests.get(url, allow_redirects=True)\n",
    "    open('num'+str(i)+'.mp4', 'wb').write(r.content)\n",
    "    i=i+1"
   ]
  },
  {
   "cell_type": "code",
   "execution_count": 2,
   "metadata": {},
   "outputs": [],
   "source": [
    "A='https://korea.commonscdn.com/contents5/kruniv1001/5e9a67710543/contents/media_files/main_(d5fe45b1-39ef-4102-84c7-f7b2f1470cc2).mp4'\n",
    "#0420기음작-2\n",
    "bunch=[A]\n",
    "import requests\n",
    "i=1;\n",
    "for url in bunch:\n",
    "    r = requests.get(url, allow_redirects=True)\n",
    "    open('num'+str(i)+'.mp4', 'wb').write(r.content)\n",
    "    i=i+1"
   ]
  },
  {
   "cell_type": "code",
   "execution_count": null,
   "metadata": {},
   "outputs": [],
   "source": []
  }
 ],
 "metadata": {
  "kernelspec": {
   "display_name": "Python 3",
   "language": "python",
   "name": "python3"
  },
  "language_info": {
   "codemirror_mode": {
    "name": "ipython",
    "version": 3
   },
   "file_extension": ".py",
   "mimetype": "text/x-python",
   "name": "python",
   "nbconvert_exporter": "python",
   "pygments_lexer": "ipython3",
   "version": "3.7.6"
  }
 },
 "nbformat": 4,
 "nbformat_minor": 4
}
