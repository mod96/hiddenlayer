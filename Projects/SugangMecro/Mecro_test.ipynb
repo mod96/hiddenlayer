{
 "cells": [
  {
   "cell_type": "code",
   "execution_count": 10,
   "metadata": {},
   "outputs": [],
   "source": [
    "###############################################################변수들\n",
    "MAIN_ID = ''\n",
    "MAIN_PW = ''\n",
    "MAIN_URL = 'https://sugang.korea.ac.kr'\n",
    "DRIVER_LOCATION = 'C:/Users/mod96/Desktop/HSH/Programs/WebCrawling/chromedriver.exe'\n",
    "lectures = ['PHYS482', 'PHYS466', 'COSE474', 'COSE362']\n",
    "###############################################################아래부터 건들지 말것\n",
    "from selenium import webdriver\n",
    "from bs4 import BeautifulSoup\n",
    "import time\n",
    "import winsound as ws\n",
    "############################################################### 로그인하고 core 값 알아내는 작업\n",
    "Log_In = 'https://sugang.korea.ac.kr/login?attribute=login'\n",
    "driver = webdriver.Chrome(DRIVER_LOCATION)\n",
    "driver.get(Log_In)\n",
    "entt = webdriver.common.keys.Keys.ENTER\n",
    "time.sleep(1)\n",
    "driver.find_element_by_xpath('//*[@id=\"id\"]').send_keys(MAIN_ID)\n",
    "driver.find_element_by_xpath('//*[@type=\"password\"]').send_keys(MAIN_PW)\n",
    "driver.find_element_by_xpath('//*[@type=\"password\"]').send_keys(entt)\n",
    "time.sleep(1)\n",
    "driver.get(Log_In)\n",
    "html = driver.page_source\n",
    "soup = BeautifulSoup(html, 'html.parser')\n",
    "core_element = soup.select('#coreMain')"
   ]
  },
  {
   "cell_type": "code",
   "execution_count": 12,
   "metadata": {},
   "outputs": [
    {
     "data": {
      "text/plain": [
       "[<frame id=\"coreMain\" name=\"coreMain\" src=\"/core?attribute=coreMain&amp;fake=1595523291733\"/>]"
      ]
     },
     "execution_count": 12,
     "metadata": {},
     "output_type": "execute_result"
    }
   ],
   "source": [
    "core_element"
   ]
  },
  {
   "cell_type": "code",
   "execution_count": 13,
   "metadata": {},
   "outputs": [
    {
     "data": {
      "text/plain": [
       "bs4.element.ResultSet"
      ]
     },
     "execution_count": 13,
     "metadata": {},
     "output_type": "execute_result"
    }
   ],
   "source": [
    "type(core_element)"
   ]
  },
  {
   "cell_type": "code",
   "execution_count": 19,
   "metadata": {
    "scrolled": true
   },
   "outputs": [
    {
     "data": {
      "text/plain": [
       "'/core?attribute=coreMain&fake=1595523291733'"
      ]
     },
     "execution_count": 19,
     "metadata": {},
     "output_type": "execute_result"
    }
   ],
   "source": [
    "core_element[0].get('src')"
   ]
  },
  {
   "cell_type": "code",
   "execution_count": 30,
   "metadata": {},
   "outputs": [],
   "source": [
    "###############################################################변수들\n",
    "MAIN_ID = ''\n",
    "MAIN_PW = ''\n",
    "MAIN_URL = 'https://sugang.korea.ac.kr'\n",
    "DRIVER_LOCATION = 'C:/Users/mod96/Desktop/HSH/Programs/WebCrawling/chromedriver.exe'\n",
    "lectures = ['PHYS482', 'PHYS466', 'COSE474', 'COSE362']\n",
    "###############################################################아래부터 건들지 말것\n",
    "from selenium import webdriver\n",
    "from bs4 import BeautifulSoup\n",
    "import time\n",
    "import winsound as ws\n",
    "############################################################### 로그인하고 core 값 알아내는 작업\n",
    "Log_In = 'https://sugang.korea.ac.kr/login?attribute=login'\n",
    "driver = webdriver.Chrome(DRIVER_LOCATION)\n",
    "driver.get(Log_In)\n",
    "entt = webdriver.common.keys.Keys.ENTER\n",
    "time.sleep(1)\n",
    "driver.find_element_by_xpath('//*[@id=\"id\"]').send_keys(MAIN_ID)\n",
    "driver.find_element_by_xpath('//*[@type=\"password\"]').send_keys(MAIN_PW)\n",
    "driver.find_element_by_xpath('//*[@type=\"password\"]').send_keys(entt)\n",
    "time.sleep(1)\n",
    "driver.get(Log_In)\n",
    "html = driver.page_source\n",
    "soup = BeautifulSoup(html, 'html.parser')\n",
    "core_element = soup.select('#coreMain')\n",
    "core = core_element[0].get('src')\n",
    "MAIN_URL += core\n",
    "driver.get(MAIN_URL)\n",
    "btn=driver.find_element_by_xpath('//*[@id=\"menu_sugang\"]')\n",
    "driver.execute_script(\"arguments[0].click();\", btn)\n",
    "\n",
    "for tab_num in range(2,len(lectures) + 1):\n",
    "    driver.execute_script(\"\"\"window.open('about:blank', 'tab\"\"\" + str(tab_num) + \"\"\"');\"\"\")\n",
    "    driver.switch_to.window(\"tab\" + str(tab_num))\n",
    "    driver.get(MAIN_URL)\n",
    "    btn=driver.find_element_by_xpath('//*[@id=\"menu_sugang\"]')\n",
    "    driver.execute_script(\"arguments[0].click();\", btn)\n",
    "    \n",
    "############################################################### 본격적인 수강신청 대기\n",
    "driver.execute_script(\"\"\"window.open('about:blank', 'tab\"\"\" + str(tab_num + 1) + \"\"\"');\"\"\")\n",
    "driver.switch_to.window(\"tab\" + str(tab_num + 1))\n",
    "driver.get('https://time.navyism.com/')\n",
    "driver.find_element_by_xpath('//*[@id=\"inputhere\"]').send_keys('https://sugang.korea.ac.kr')\n",
    "driver.find_element_by_xpath('//*[@id=\"inputhere\"]').send_keys(entt)\n",
    "\n",
    "soup = BeautifulSoup(driver.page_source, 'html.parser')\n",
    "time_element = soup.select('#time_area')\n",
    "time_now = time_element[0].text\n",
    "while time_now != time_target:\n",
    "    time.sleep(0.5)\n",
    "    soup = BeautifulSoup(driver.page_source, 'html.parser')\n",
    "    time_element = soup.select('#time_area')\n",
    "    time_now = time_element[0].text\n",
    "############################################################### 수강신청\n",
    "try:\n",
    "    for tab_num in range(2,len(lectures)+2):\n",
    "        driver.switch_to.window(\"tab\" + str(tab_num))\n",
    "        driver.get('https://www.naver.com/')\n",
    "        driver.find_element_by_xpath('//*[@class=\"logo_naver\"]').send_keys(entt)\n",
    "except:\n",
    "    print(ws.Beep(2000, 5000))\n",
    "    print(\"error at:\", tab_num, 'I am sorry...')\n",
    "\n",
    "print(ws.Beep(2000, 1000))"
   ]
  },
  {
   "cell_type": "code",
   "execution_count": 31,
   "metadata": {},
   "outputs": [],
   "source": [
    "###############################################################변수들\n",
    "MAIN_ID = ''\n",
    "MAIN_PW = ''\n",
    "MAIN_URL = 'https://sugang.korea.ac.kr'\n",
    "DRIVER_LOCATION = 'C:/Users/mod96/Desktop/HSH/Programs/WebCrawling/chromedriver.exe'\n",
    "lectures = ['PHYS482', 'PHYS466', 'COSE474', 'COSE362']\n",
    "###############################################################아래부터 건들지 말것\n",
    "from selenium import webdriver\n",
    "from bs4 import BeautifulSoup\n",
    "import time\n",
    "import winsound as ws\n",
    "############################################################### 로그인하고 core 값 알아내는 작업\n",
    "Log_In = 'https://sugang.korea.ac.kr/login?attribute=login'\n",
    "driver = webdriver.Chrome(DRIVER_LOCATION)\n",
    "driver.get('https://www.naver.com/')\n",
    "driver.find_element_by_xpath('//*[@class=\"logo_naver\"]').send_keys(entt)"
   ]
  },
  {
   "cell_type": "code",
   "execution_count": null,
   "metadata": {},
   "outputs": [],
   "source": [
    "###############################################################변수들\n",
    "MAIN_ID = ''\n",
    "MAIN_PW = ''\n",
    "MAIN_URL = 'https://sugang.korea.ac.kr'\n",
    "DRIVER_LOCATION = 'C:/Users/mod96/Desktop/HSH/Programs/WebCrawling/chromedriver.exe'\n",
    "lectures = ['PHYS482', 'PHYS466', 'COSE474', 'COSE362']\n",
    "time_target = '2020년 07월 24일 03시 09분 50초'  # 네이비즘 시간 사용하기 때문에 그 양식에 맞게 적으면 됨.\n",
    "wait_time = 3  # 웹페이지 기다리는 시간. 적절히 조절하기를 바람.\n",
    "number_of_tabs_for_insurance = 2  # 과목당 탭을 몇개씩 만들까요?\n",
    "###############################################################아래부터 건들지 말것\n",
    "from selenium import webdriver\n",
    "from selenium.webdriver.common.desired_capabilities import DesiredCapabilities\n",
    "from bs4 import BeautifulSoup\n",
    "import time\n",
    "import winsound as ws\n",
    "############################################################### 로그인하고 core 값 알아내는 작업\n",
    "Log_In = 'https://sugang.korea.ac.kr/login?attribute=login'\n",
    "driver = webdriver.Chrome(DRIVER_LOCATION)\n",
    "driver.get(Log_In)\n",
    "entt = webdriver.common.keys.Keys.ENTER\n",
    "time.sleep(0.5)\n",
    "driver.find_element_by_xpath('//*[@id=\"id\"]').send_keys(MAIN_ID)\n",
    "driver.find_element_by_xpath('//*[@type=\"password\"]').send_keys(MAIN_PW)\n",
    "driver.find_element_by_xpath('//*[@type=\"password\"]').send_keys(entt)\n",
    "time.sleep(0.5)\n",
    "driver.get(Log_In)\n",
    "html = driver.page_source\n",
    "soup = BeautifulSoup(html, 'html.parser')\n",
    "core_element = soup.select('#coreMain')\n",
    "core = core_element[0].get('src')\n",
    "MAIN_URL += core\n",
    "############################################################### 이제 로그인 후 기다리지 않음.\n",
    "caps = DesiredCapabilities().CHROME\n",
    "caps[\"pageLoadStrategy\"] = \"none\"\n",
    "driver = webdriver.Chrome(desired_capabilities=caps, executable_path = DRIVER_LOCATION)\n",
    "driver.get(Log_In)\n",
    "time.sleep(wait_time)\n",
    "driver.find_element_by_xpath('//*[@id=\"id\"]').send_keys(MAIN_ID)\n",
    "driver.find_element_by_xpath('//*[@type=\"password\"]').send_keys(MAIN_PW)\n",
    "driver.find_element_by_xpath('//*[@type=\"password\"]').send_keys(entt)\n",
    "time.sleep(0.5)\n",
    "driver.get(Log_In)\n",
    "\n",
    "for insurance in range(number_of_tabs_for_insurance):\n",
    "    for num in range(2,len(lectures) + 2):\n",
    "        tab_num = len(lectures) * insurance + num\n",
    "        driver.execute_script(\"\"\"window.open('about:blank', 'tab\"\"\" + str(tab_num) + \"\"\"');\"\"\")\n",
    "        driver.switch_to.window(\"tab\" + str(tab_num))\n",
    "        driver.get(MAIN_URL)\n",
    "        time.sleep(wait_time)\n",
    "        btn=driver.find_element_by_xpath('//*[@id=\"menu_sugang\"]')\n",
    "        driver.execute_script(\"arguments[0].click();\", btn)\n",
    "\n",
    "############################################################### 본격적인 수강신청 대기\n",
    "driver.execute_script(\"\"\"window.open('about:blank', 'tab\"\"\" + str(tab_num + 1) + \"\"\"');\"\"\")\n",
    "driver.switch_to.window(\"tab\" + str(tab_num + 1))\n",
    "driver.get('https://time.navyism.com/')\n",
    "time.sleep(wait_time)\n",
    "driver.find_element_by_xpath('//*[@id=\"inputhere\"]').send_keys('https://sugang.korea.ac.kr')\n",
    "driver.find_element_by_xpath('//*[@id=\"inputhere\"]').send_keys(entt)\n",
    "time.sleep(wait_time)\n",
    "soup = BeautifulSoup(driver.page_source, 'html.parser')\n",
    "time_element = soup.select('#time_area')\n",
    "time_now = time_element[0].text\n",
    "while time_now != time_target:\n",
    "    time.sleep(0.5)\n",
    "    soup = BeautifulSoup(driver.page_source, 'html.parser')\n",
    "    time_element = soup.select('#time_area')\n",
    "    time_now = time_element[0].text\n",
    "############################################################### 수강신청\n",
    "try:\n",
    "    for insurance in range(number_of_tabs_for_insurance):\n",
    "        for num in range(2, len(lectures) + 2):\n",
    "            tab_num = len(lectures) * insurance + num\n",
    "            driver.switch_to.window(\"tab\" + str(tab_num))\n",
    "            driver.get('https://www.naver.com/')\n",
    "            driver.find_element_by_xpath('//*[@class=\"logo_naver\"]').send_keys(entt)\n",
    "except:\n",
    "    print(ws.Beep(2000, 5000))\n",
    "    print(\"error at:\", tab_num, 'I am sorry...')\n",
    "\n",
    "print(ws.Beep(2000, 1000))"
   ]
  }
 ],
 "metadata": {
  "kernelspec": {
   "display_name": "Python 3",
   "language": "python",
   "name": "python3"
  },
  "language_info": {
   "codemirror_mode": {
    "name": "ipython",
    "version": 3
   },
   "file_extension": ".py",
   "mimetype": "text/x-python",
   "name": "python",
   "nbconvert_exporter": "python",
   "pygments_lexer": "ipython3",
   "version": "3.7.6"
  }
 },
 "nbformat": 4,
 "nbformat_minor": 4
}
